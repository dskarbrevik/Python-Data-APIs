{
 "cells": [
  {
   "cell_type": "markdown",
   "metadata": {},
   "source": [
    "<a id=\"top\"></a>\n",
    "\n",
    "# Ipython Widgets\n",
    "\n",
    "**Description:** A library that adds more interactive functionality to a Jupyter notebook.\n",
    "\n",
    "**Documentation:** <a href=\"http://ipywidgets.readthedocs.io/en/latest/index.html\">here</a>"
   ]
  },
  {
   "cell_type": "markdown",
   "metadata": {},
   "source": [
    "### Slider widget\n",
    "\n",
    "This code also shows how we can observe a user's interaction with the slider."
   ]
  },
  {
   "cell_type": "code",
   "execution_count": 43,
   "metadata": {},
   "outputs": [
    {
     "data": {
      "application/vnd.jupyter.widget-view+json": {
       "model_id": "24a188e8f62f497784a133ea6069f0de",
       "version_major": 2,
       "version_minor": 0
      },
      "text/plain": [
       "A Jupyter Widget"
      ]
     },
     "metadata": {},
     "output_type": "display_data"
    }
   ],
   "source": [
    "from IPython.display import display\n",
    "import ipywidgets as widgets\n",
    "\n",
    "int_range = widgets.IntSlider()\n",
    "display(int_range)\n",
    "int_range.value = 50\n",
    "\n",
    "def on_value_change(change):\n",
    "    print(change['new'])\n",
    "\n",
    "int_range.observe(on_value_change, names='value')"
   ]
  },
  {
   "cell_type": "markdown",
   "metadata": {},
   "source": [
    "### How to see the attributes of a widget"
   ]
  },
  {
   "cell_type": "code",
   "execution_count": 14,
   "metadata": {},
   "outputs": [
    {
     "data": {
      "text/plain": [
       "['_dom_classes',\n",
       " '_model_module',\n",
       " '_model_module_version',\n",
       " '_model_name',\n",
       " '_view_count',\n",
       " '_view_module',\n",
       " '_view_module_version',\n",
       " '_view_name',\n",
       " 'continuous_update',\n",
       " 'description',\n",
       " 'disabled',\n",
       " 'layout',\n",
       " 'max',\n",
       " 'min',\n",
       " 'orientation',\n",
       " 'readout',\n",
       " 'readout_format',\n",
       " 'step',\n",
       " 'style',\n",
       " 'value']"
      ]
     },
     "execution_count": 14,
     "metadata": {},
     "output_type": "execute_result"
    }
   ],
   "source": [
    "int_range.keys"
   ]
  },
  {
   "cell_type": "markdown",
   "metadata": {},
   "source": [
    "In the Slider widget example above, we set the `value` attribute to change the number displayed by the Slider."
   ]
  },
  {
   "cell_type": "markdown",
   "metadata": {},
   "source": [
    "### Getting rid of any widget\n",
    "\n",
    "For example, we can remove the slider widget we just made like this..."
   ]
  },
  {
   "cell_type": "code",
   "execution_count": 8,
   "metadata": {
    "collapsed": true
   },
   "outputs": [],
   "source": [
    "int_range.close()"
   ]
  },
  {
   "cell_type": "markdown",
   "metadata": {},
   "source": [
    "### Button widget"
   ]
  },
  {
   "cell_type": "code",
   "execution_count": 44,
   "metadata": {},
   "outputs": [
    {
     "data": {
      "application/vnd.jupyter.widget-view+json": {
       "model_id": "072eb3bf6c8043f291ae90bfdc8f1e54",
       "version_major": 2,
       "version_minor": 0
      },
      "text/plain": [
       "A Jupyter Widget"
      ]
     },
     "metadata": {},
     "output_type": "display_data"
    }
   ],
   "source": [
    "from IPython.display import display\n",
    "import ipywidgets as widgets\n",
    "\n",
    "button = widgets.Button(description=\"Click Me!... Again!\")\n",
    "display(button)\n",
    "\n",
    "def on_button_clicked(b):\n",
    "    print(\"Ouch that hurts!\")\n",
    "\n",
    "button.on_click(on_button_clicked)"
   ]
  },
  {
   "cell_type": "code",
   "execution_count": 56,
   "metadata": {},
   "outputs": [
    {
     "data": {
      "text/plain": [
       "['_model_module',\n",
       " '_model_module_version',\n",
       " '_model_name',\n",
       " '_view_count',\n",
       " '_view_module',\n",
       " '_view_module_version',\n",
       " '_view_name',\n",
       " 'align_content',\n",
       " 'align_items',\n",
       " 'align_self',\n",
       " 'border',\n",
       " 'bottom',\n",
       " 'display',\n",
       " 'flex',\n",
       " 'flex_flow',\n",
       " 'height',\n",
       " 'justify_content',\n",
       " 'left',\n",
       " 'margin',\n",
       " 'max_height',\n",
       " 'max_width',\n",
       " 'min_height',\n",
       " 'min_width',\n",
       " 'order',\n",
       " 'overflow',\n",
       " 'overflow_x',\n",
       " 'overflow_y',\n",
       " 'padding',\n",
       " 'right',\n",
       " 'top',\n",
       " 'visibility',\n",
       " 'width']"
      ]
     },
     "execution_count": 56,
     "metadata": {},
     "output_type": "execute_result"
    }
   ],
   "source": [
    "button.layout.keys"
   ]
  },
  {
   "cell_type": "markdown",
   "metadata": {},
   "source": [
    "Notice that pressing the button multiple times leads to multiple text outputs. You can simply add boolean logic to your code to prevent this if desired..."
   ]
  },
  {
   "cell_type": "code",
   "execution_count": 45,
   "metadata": {},
   "outputs": [
    {
     "data": {
      "application/vnd.jupyter.widget-view+json": {
       "model_id": "9fee5abc5a714c4fae14871872c78e4a",
       "version_major": 2,
       "version_minor": 0
      },
      "text/plain": [
       "A Jupyter Widget"
      ]
     },
     "metadata": {},
     "output_type": "display_data"
    }
   ],
   "source": [
    "from IPython.display import display\n",
    "import ipywidgets as widgets\n",
    "\n",
    "button = widgets.Button(description=\"Click Me!\")\n",
    "display(button)\n",
    "clicked = False\n",
    "\n",
    "def on_button_clicked(b):\n",
    "    global clicked\n",
    "    if not clicked:\n",
    "        print(\"Try to click again, it won't do anything! Hah!\")\n",
    "        clicked = True\n",
    "    \n",
    "button.on_click(on_button_clicked)"
   ]
  },
  {
   "cell_type": "markdown",
   "metadata": {},
   "source": [
    "### Progress bar (that runs in the background)\n",
    "\n",
    "This example uses the `threading` library to allow other code cells to be run while this progress bar runs, without it you will need to wait for the progress bar to complete before executing other code cells. This behavior can be added to any widget to allow background operation of the widget. VERY USEFUL."
   ]
  },
  {
   "cell_type": "code",
   "execution_count": 46,
   "metadata": {},
   "outputs": [
    {
     "data": {
      "application/vnd.jupyter.widget-view+json": {
       "model_id": "c17663d6c4b84dfd8a41f79686bef6dd",
       "version_major": 2,
       "version_minor": 0
      },
      "text/plain": [
       "A Jupyter Widget"
      ]
     },
     "metadata": {},
     "output_type": "display_data"
    }
   ],
   "source": [
    "import threading\n",
    "from IPython.display import display\n",
    "import ipywidgets as widgets\n",
    "import time\n",
    "\n",
    "progress = widgets.FloatProgress(value=0.0, min=0.0, max=1.0)\n",
    "\n",
    "def work(progress):\n",
    "    total = 100\n",
    "    for i in range(total):\n",
    "        time.sleep(0.2)\n",
    "        progress.value = float(i+1)/total\n",
    "\n",
    "thread = threading.Thread(target=work, args=(progress,))\n",
    "display(progress)\n",
    "thread.start()"
   ]
  },
  {
   "cell_type": "markdown",
   "metadata": {},
   "source": [
    "### Styling a Widget\n",
    "\n",
    "Add some zest to those widgets!"
   ]
  },
  {
   "cell_type": "code",
   "execution_count": 47,
   "metadata": {},
   "outputs": [
    {
     "data": {
      "application/vnd.jupyter.widget-view+json": {
       "model_id": "39ce058c3bf845e5b665739e1b98ef9c",
       "version_major": 2,
       "version_minor": 0
      },
      "text/plain": [
       "A Jupyter Widget"
      ]
     },
     "metadata": {},
     "output_type": "display_data"
    }
   ],
   "source": [
    "import threading\n",
    "from IPython.display import display\n",
    "import ipywidgets as widgets\n",
    "import time\n",
    "\n",
    "progress = widgets.FloatProgress(value=0.0, min=0.0, max=1.0)\n",
    "\n",
    "# THIS IS THE ONLY NEW LINE OF CODE\n",
    "progress.style.bar_color = \"lightgreen\" \n",
    "\n",
    "def work(progress):\n",
    "    total = 100\n",
    "    for i in range(total):\n",
    "        time.sleep(0.2)\n",
    "        progress.value = float(i+1)/total\n",
    "\n",
    "thread = threading.Thread(target=work, args=(progress,))\n",
    "display(progress)\n",
    "thread.start()"
   ]
  },
  {
   "cell_type": "markdown",
   "metadata": {},
   "source": [
    "Just took one extra line of code!\n",
    "\n",
    "We can see what properties are changeable:"
   ]
  },
  {
   "cell_type": "code",
   "execution_count": 11,
   "metadata": {},
   "outputs": [
    {
     "data": {
      "text/plain": [
       "['_model_module',\n",
       " '_model_module_version',\n",
       " '_model_name',\n",
       " '_view_count',\n",
       " '_view_module',\n",
       " '_view_module_version',\n",
       " '_view_name',\n",
       " 'bar_color',\n",
       " 'description_width']"
      ]
     },
     "execution_count": 11,
     "metadata": {},
     "output_type": "execute_result"
    }
   ],
   "source": [
    "progress.style.keys"
   ]
  },
  {
   "cell_type": "markdown",
   "metadata": {},
   "source": [
    "Turns out there are only two for progress bars right now `bar_color` and `description_width`.\n",
    "\n",
    "Look <a href=\"http://ipywidgets.readthedocs.io/en/latest/examples/Widget%20Styling.html\">here</a> for more info about styling widgets."
   ]
  },
  {
   "cell_type": "markdown",
   "metadata": {},
   "source": [
    "### Pop-up prompts\n",
    "\n",
    "OK this isn't actually a widget, but it's pretty cool anyway. There are a lot of things you can do by injecting some JavaScript code but making a pop-up prompt like this is one of them."
   ]
  },
  {
   "cell_type": "code",
   "execution_count": 86,
   "metadata": {},
   "outputs": [
    {
     "data": {
      "application/javascript": [
       "\n",
       "require(\n",
       "[\"base/js/dialog\"],\n",
       "function(dialog) {\n",
       "    dialog.modal({\n",
       "        title: 'This is <style type=\"text/css\">a</style> random pop-up!',\n",
       "        body: 'Hi there, you just made this pop-up prompt. Pretty cool right?',\n",
       "        buttons: {\n",
       "            'kthxbye': {}\n",
       "                 }\n",
       "          });\n",
       "      }\n",
       ");\n"
      ],
      "text/plain": [
       "<IPython.core.display.Javascript object>"
      ]
     },
     "metadata": {},
     "output_type": "display_data"
    }
   ],
   "source": [
    "from IPython.display import display, Javascript\n",
    "\n",
    "display(Javascript(\"\"\"\n",
    "require(\n",
    "[\"base/js/dialog\"],\n",
    "function(dialog) {\n",
    "    dialog.modal({\n",
    "        title: 'This is a random pop-up!',\n",
    "        body: 'Hi there, you just made this pop-up prompt. Pretty cool right?',\n",
    "        buttons: {\n",
    "            'kthxbye': {}\n",
    "                 }\n",
    "          });\n",
    "      }\n",
    ");\n",
    "\"\"\"))"
   ]
  },
  {
   "cell_type": "markdown",
   "metadata": {},
   "source": [
    "You can do the same thing (execute javascript code) by simply using the `%%javascript` magic command like this..."
   ]
  },
  {
   "cell_type": "code",
   "execution_count": 42,
   "metadata": {},
   "outputs": [
    {
     "data": {
      "application/javascript": [
       "\n",
       "require(\n",
       "[\"base/js/dialog\"],\n",
       "function(dialog) {\n",
       "    dialog.modal({\n",
       "        title: 'This is a random pop-up!',\n",
       "        body: 'Hi there, you just made this pop-up prompt with a . Pretty cool right?',\n",
       "        buttons: {\n",
       "            'kthxbye': {}\n",
       "                 }\n",
       "          });\n",
       "      }\n",
       ");"
      ],
      "text/plain": [
       "<IPython.core.display.Javascript object>"
      ]
     },
     "metadata": {},
     "output_type": "display_data"
    }
   ],
   "source": [
    "%%javascript\n",
    "\n",
    "require(\n",
    "[\"base/js/dialog\"],\n",
    "function(dialog) {\n",
    "    dialog.modal({\n",
    "        title: 'This is a random pop-up!',\n",
    "        body: 'Hi there, you just made this pop-up prompt with a \"magic command\". Pretty cool right?',\n",
    "        buttons: {\n",
    "            'kthxbye': {}\n",
    "                 }\n",
    "          });\n",
    "      }\n",
    ");"
   ]
  },
  {
   "cell_type": "markdown",
   "metadata": {},
   "source": [
    "### Custom widgets\n",
    "\n",
    "Here are some other built-in widgets that we haven't gone over yet:\n",
    "\n",
    "* radio buttons\n",
    "* drop-down menus\n",
    "* text input boxes\n",
    "* toggle buttons\n",
    "\n",
    "However the list isn't exhaustive (you can see all your options <a href=\"http://ipywidgets.readthedocs.io/en/latest/examples/Widget%20List.html\">here</a>). If you want something that isn't in the default list, you can make your own. See <a href=\"http://ipywidgets.readthedocs.io/en/latest/examples/Widget%20Custom.html\">this doc</a> for more info, but the basic structure of a simple widget can be defined like this:"
   ]
  },
  {
   "cell_type": "markdown",
   "metadata": {},
   "source": [
    "** Basic structure **"
   ]
  },
  {
   "cell_type": "code",
   "execution_count": 33,
   "metadata": {
    "collapsed": true
   },
   "outputs": [],
   "source": [
    "import ipywidgets as widgets\n",
    "from IPython.display import display\n",
    "from traitlets import Unicode, validate\n",
    "\n",
    "\n",
    "class SomeNewWidget(widgets.DOMWidget):\n",
    "    _view_name = Unicode('HelloView').tag(sync=True)\n",
    "    _view_module = Unicode('hello').tag(sync=True)\n",
    "    _view_module_version = Unicode('0.1.0').tag(sync=True)\n",
    "    value = Unicode('Hi, this is a default value').tag(sync=True)\n",
    "    \n",
    "    def someFunction(self):\n",
    "        pass"
   ]
  },
  {
   "cell_type": "markdown",
   "metadata": {
    "collapsed": true
   },
   "source": [
    "While this can make very simple tweaks to existing widgets like a Slider, it can be used to do a lot of interesting things...\n",
    "\n",
    "<br>\n",
    "\n",
    "**Here's a more in-depth example **\n",
    "\n",
    "In this example I'm trying to make a timer widget with pause/play functionality. We'll use threading so we can execute other code cells while our timer runs and we'll use threading's `Event` object to allow us to pause the timer."
   ]
  },
  {
   "cell_type": "code",
   "execution_count": 36,
   "metadata": {},
   "outputs": [],
   "source": [
    "from ipywidgets import DOMWidget, Layout, Button\n",
    "from IPython.display import display, Javascript\n",
    "from traitlets import Unicode, validate\n",
    "import time\n",
    "import threading\n",
    "\n",
    "class Timer(DOMWidget):\n",
    "    _view_name = Unicode('HelloView').tag(sync=True)\n",
    "    _view_module = Unicode('hello').tag(sync=True)\n",
    "    _view_module_version = Unicode('0.1.0').tag(sync=True)\n",
    "    value = Unicode('00:00:00').tag(sync=True)\n",
    "\n",
    "\n",
    "    times_pressed = 0\n",
    "    go_time = False\n",
    "    event = threading.Event()\n",
    "    \n",
    "    def threaded_timer(self,b,max_time=180):\n",
    "        if self.times_pressed == 0:\n",
    "            self.times_pressed += 1\n",
    "            b.description = \"PAUSE\"\n",
    "            b.button_style = \"warning\"\n",
    "            b.disabled = True\n",
    "            self.go_time = True\n",
    "            thread = threading.Thread(target=self.timeit, args=(b,max_time))\n",
    "            thread.start()\n",
    "            time.sleep(1) # prevents user from spamming start/stop buttom which would throw off the time\n",
    "            b.disabled = False\n",
    "            \n",
    "        # PAUSE button pushed\n",
    "        elif (self.times_pressed % 2) != 0:\n",
    "            self.times_pressed += 1\n",
    "            b.description = \"RESUME\"\n",
    "            b.button_style= \"success\"\n",
    "            b.disabled = False\n",
    "            self.event.clear()\n",
    "            self.go_time = False\n",
    "\n",
    "        # RESUME button pushed\n",
    "        elif (self.times_pressed % 2) == 0:\n",
    "            self.times_pressed += 1\n",
    "            self.go_time = True\n",
    "            b.description=\"PAUSE\"\n",
    "            b.button_style=\"warning\"\n",
    "            b.disabled = True\n",
    "            self.event.set()\n",
    "            time.sleep(1) # prevents user from spamming start/stop buttom which would throw off the time\n",
    "            b.disabled = False            \n",
    "     \n",
    "    # this is what's actually keeping track of the time and updating the custom Timer widget\n",
    "    def timeit(self, b, max_time=180):\n",
    "        hours = 0\n",
    "        mins = 0\n",
    "        secs = 0\n",
    "        for i in range(1,(max_time*60+1)):\n",
    "            if self.go_time:\n",
    "                if (i % 60) == 0:\n",
    "                    if (i % 3600) == 0:\n",
    "                        secs = 0\n",
    "                        mins = 0\n",
    "                        hours += 1\n",
    "\n",
    "                    else:\n",
    "                        secs = 0\n",
    "                        mins += 1\n",
    "                else:\n",
    "                    secs += 1\n",
    "                self.value = '{hour:02}:{minute:02}:{second:02}'.format(hour=hours,minute=mins,second=secs)\n",
    "                time.sleep(1)\n",
    "\n",
    "            else:\n",
    "                self.event.wait()\n",
    "        else:\n",
    "            b.button_style=\"danger\"\n",
    "            b.description=\"TIME'S UP!\"\n",
    "\n",
    "def show(timer):\n",
    "    button = Button(description=\"START\", layout=Layout(width=\"20%\", height='50px'), button_style=\"success\")\n",
    "    button.style.font_weight = \"1000\"\n",
    "    display(button)\n",
    "    display(timer)\n",
    "    button.on_click(timer.threaded_timer)"
   ]
  },
  {
   "cell_type": "markdown",
   "metadata": {},
   "source": [
    "Now let's try out our timer widget!"
   ]
  },
  {
   "cell_type": "code",
   "execution_count": 37,
   "metadata": {
    "scrolled": true
   },
   "outputs": [
    {
     "data": {
      "application/vnd.jupyter.widget-view+json": {
       "model_id": "8c2b7412bccf4f20a4a434c68220086b",
       "version_major": 2,
       "version_minor": 0
      },
      "text/plain": [
       "A Jupyter Widget"
      ]
     },
     "metadata": {},
     "output_type": "display_data"
    },
    {
     "data": {
      "application/vnd.jupyter.widget-view+json": {
       "model_id": "9fbc76b91a174211910c33c27c2a428e",
       "version_major": 2,
       "version_minor": 0
      },
      "text/plain": [
       "A Jupyter Widget"
      ]
     },
     "metadata": {},
     "output_type": "display_data"
    }
   ],
   "source": [
    "timer = Timer()\n",
    "show(timer)"
   ]
  },
  {
   "cell_type": "markdown",
   "metadata": {},
   "source": [
    "There you have it, custom widget class to make a timer widget. To be honest this may be a little over engineered. Since we really just have a button and some continuously updating text we could probably have used two default widgets to make this, but that's ok :)\n",
    "\n",
    "Notice there is a slight delay when you resume the timer to prevent you from spam clicking which (b/c of the way I coded it) would add a second each time you clicked resume.\n",
    "\n",
    "There are actually a lot of possibilities with custom widgets that can be even more complex (e.g. calendar pop-up date picker widget)."
   ]
  },
  {
   "cell_type": "markdown",
   "metadata": {},
   "source": [
    "***"
   ]
  },
  {
   "cell_type": "markdown",
   "metadata": {},
   "source": [
    "### That's it for now!\n",
    "\n",
    "Hope this was helpful, and again you can check out the documentation at the <a href=\"#top\">top</a> of the notebook for more info. Now go put unnecessary sliders and buttons in all your notebooks! &#x1f60e;"
   ]
  }
 ],
 "metadata": {
  "kernelspec": {
   "display_name": "Python 3",
   "language": "python",
   "name": "python3"
  },
  "language_info": {
   "codemirror_mode": {
    "name": "ipython",
    "version": 3
   },
   "file_extension": ".py",
   "mimetype": "text/x-python",
   "name": "python",
   "nbconvert_exporter": "python",
   "pygments_lexer": "ipython3",
   "version": "3.6.3"
  }
 },
 "nbformat": 4,
 "nbformat_minor": 2
}
