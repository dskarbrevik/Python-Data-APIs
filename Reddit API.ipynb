{
 "cells": [
  {
   "cell_type": "markdown",
   "metadata": {},
   "source": [
    "# Reddit API Usage in Python"
   ]
  },
  {
   "cell_type": "markdown",
   "metadata": {},
   "source": [
    "This notebook showcases a library called \"praw\" that is a wrapper for Reddit's API."
   ]
  },
  {
   "cell_type": "code",
   "execution_count": 48,
   "metadata": {
    "collapsed": true
   },
   "outputs": [],
   "source": [
    "import praw\n",
    "import json"
   ]
  },
  {
   "cell_type": "markdown",
   "metadata": {},
   "source": [
    "## Example Usage"
   ]
  },
  {
   "cell_type": "markdown",
   "metadata": {},
   "source": [
    "Start by initializing a `Reddit` object like this (note the `user agent` value needs to be changed to something more personal):"
   ]
  },
  {
   "cell_type": "code",
   "execution_count": 7,
   "metadata": {},
   "outputs": [],
   "source": [
    "user_agent = \"Platform:Some_name_of_project:version_number (by /u/SomeRedditUserName)\"\n",
    "r = praw.Reddit(client_id=\"XXXXXXXXXXX\", client_secret=\"XXXXXXXXXXXXXXXXXXXXX\", username=\"SomeRedditUserName\",\n",
    "                password=\"XXXXXXXXXX\", user_agent=user_agent)\n"
   ]
  },
  {
   "cell_type": "markdown",
   "metadata": {},
   "source": [
    "Now we can use our `Reddit` object to make requests. Here are the parameters:"
   ]
  },
  {
   "cell_type": "code",
   "execution_count": 39,
   "metadata": {
    "collapsed": true
   },
   "outputs": [],
   "source": [
    "?r.request()"
   ]
  },
  {
   "cell_type": "markdown",
   "metadata": {},
   "source": [
    "Let's say we want to look at the **\"Overwatch\" subreddit**. We want to see the **current top ten submissions**. In those submissions we want to make a **list of the usernames** of those submissions. Then we can make a request like this:"
   ]
  },
  {
   "cell_type": "code",
   "execution_count": 90,
   "metadata": {
    "scrolled": false
   },
   "outputs": [
    {
     "name": "stdout",
     "output_type": "stream",
     "text": [
      "['Kosmic_Kraken', 'WeeziMonkey', 'applejuSoldier', 'gmurz', 'DapperDodger', 'Dpitt3', 'Mickji', 'TheDesertWalker', 'Owlburger', 'zumoro']\n"
     ]
    }
   ],
   "source": [
    "total_submissions = 10\n",
    "\n",
    "submissions = r.request(\"GET\",\"/r/Overwatch/\", params={\"limit\":total_submissions, \"after\":\"t3_7xyaqb\"})\n",
    "users = []\n",
    "\n",
    "for i in range(total_submissions):\n",
    "    users.append(submissions[\"data\"][\"children\"][i][\"data\"][\"author\"])\n",
    "print(users)"
   ]
  },
  {
   "cell_type": "markdown",
   "metadata": {},
   "source": [
    "Notice the first two parameters specify that this is a \"GET\" request (as opposed to a \"POST\" request for instance) and that we are specifically interested in the \"/r/Overwatch\" subreddit. The parameters dict that was passed specifies that we only want 10 results and the \"after\" value indicates where we want the request to begin in giving us those ten results. See <a href=\"https://www.reddit.com/dev/api/\">Reddit's API documentation</a> for info on the syntax of that value and for more info on types of requests you can make."
   ]
  },
  {
   "cell_type": "code",
   "execution_count": null,
   "metadata": {
    "collapsed": true
   },
   "outputs": [],
   "source": []
  }
 ],
 "metadata": {
  "kernelspec": {
   "display_name": "Python 3",
   "language": "python",
   "name": "python3"
  },
  "language_info": {
   "codemirror_mode": {
    "name": "ipython",
    "version": 3
   },
   "file_extension": ".py",
   "mimetype": "text/x-python",
   "name": "python",
   "nbconvert_exporter": "python",
   "pygments_lexer": "ipython3",
   "version": "3.6.3"
  }
 },
 "nbformat": 4,
 "nbformat_minor": 2
}
