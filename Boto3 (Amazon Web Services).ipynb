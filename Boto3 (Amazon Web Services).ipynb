{
 "cells": [
  {
   "cell_type": "markdown",
   "metadata": {},
   "source": [
    "## Using Boto3 to interact with Amazon Web Services"
   ]
  },
  {
   "cell_type": "code",
   "execution_count": 1,
   "metadata": {
    "collapsed": true
   },
   "outputs": [],
   "source": [
    "# install the library if you don't have it\n",
    "# !pip install boto3"
   ]
  },
  {
   "cell_type": "code",
   "execution_count": 2,
   "metadata": {
    "collapsed": true
   },
   "outputs": [],
   "source": [
    "# import the library\n",
    "import boto3"
   ]
  },
  {
   "cell_type": "markdown",
   "metadata": {},
   "source": [
    "## SETUP: AWS Key and Secret\n",
    "\n",
    "You need to have an AWS account which will give you access to a \"key\" and \"secret\" that you can view from your account page. There are two ways to setup your local environment with the \"key\" and \"secret\":\n",
    "\n",
    "* Download <a href=\"https://aws.amazon.com/cli/\">AWS CLI</a> and after it is installed, type `aws configure` in a command/terminal prompt. This will then ask you for your key and secret.\n",
    "\n",
    "**OR**\n",
    "\n",
    "* Enter the key and secret directly into your python script\n",
    "\n",
    "I recommend you follow the first method as it is generally never recommended that you allow secrets/keys/passwords/etc. to be directly in your code files (poor security practice)."
   ]
  },
  {
   "cell_type": "markdown",
   "metadata": {},
   "source": [
    "## LESSON: Accessing AWS S3 Files with Boto3"
   ]
  },
  {
   "cell_type": "markdown",
   "metadata": {},
   "source": [
    "### Step 1) Initializing boto3"
   ]
  },
  {
   "cell_type": "code",
   "execution_count": null,
   "metadata": {
    "collapsed": true
   },
   "outputs": [],
   "source": [
    "# IF YOU DON'T WANT TO DOWNLOAD AWS CLI... here is a way (not-recommended) to enter your key/secret combo directly into Python\n",
    "\n",
    "# NO NEED TO RUN THIS IF YOU ENTERED YOUR KEY/SECRET THROUGH AWS CLI\n",
    "s3 = boto3.resource('s3', \n",
    "                    aws_access_key_id = <access_key>,\n",
    "                    aws_secret_access_key = <secret_key>)"
   ]
  },
  {
   "cell_type": "code",
   "execution_count": 4,
   "metadata": {
    "collapsed": true
   },
   "outputs": [],
   "source": [
    "# IF YOU ENTERED YOUR KEY/SECRET THROUGH AWS CLI (HIGHLY RECOMMENDED!!)... run this code block:\n",
    "\n",
    "# this tells boto3 we want to access AWS's S3 service specifically\n",
    "s3 = boto3.resource('s3')\n"
   ]
  },
  {
   "cell_type": "markdown",
   "metadata": {},
   "source": [
    "### Step 2) Accessing a specific file\n",
    "\n",
    "Getting a file follows the format: `s3.Object('my-bucket-name', 'my_path/to/file.txt')`"
   ]
  },
  {
   "cell_type": "code",
   "execution_count": 17,
   "metadata": {},
   "outputs": [],
   "source": [
    "# Bucket = 'data-science-gym'\n",
    "# File Path = 'iris_data.csv'\n",
    "\n",
    "file_object = s3.Object('data-science-gym', 'iris_data.csv')\n",
    "file_content = file_object.get()['Body'].read()"
   ]
  },
  {
   "cell_type": "markdown",
   "metadata": {},
   "source": [
    "### Step 3) Read the data into Pandas\n",
    "\n",
    "This is really just one endpoint. If we just wanted to download the file, we could do that instead, but in this example we don't really have a reason to save our data to disk so we're going to go straight to Pandas."
   ]
  },
  {
   "cell_type": "code",
   "execution_count": 20,
   "metadata": {},
   "outputs": [],
   "source": [
    "import pandas as pd\n",
    "import io\n",
    "\n",
    "df = pd.read_csv(io.BytesIO(file_content))\n",
    "\n",
    "# you may find that you need to specify the encoding of the file, like this\n",
    "# df = pd.read_csv(io.BytesIO(file_content), encoding='utf8')"
   ]
  },
  {
   "cell_type": "code",
   "execution_count": 21,
   "metadata": {},
   "outputs": [
    {
     "data": {
      "text/html": [
       "<div>\n",
       "<style>\n",
       "    .dataframe thead tr:only-child th {\n",
       "        text-align: right;\n",
       "    }\n",
       "\n",
       "    .dataframe thead th {\n",
       "        text-align: left;\n",
       "    }\n",
       "\n",
       "    .dataframe tbody tr th {\n",
       "        vertical-align: top;\n",
       "    }\n",
       "</style>\n",
       "<table border=\"1\" class=\"dataframe\">\n",
       "  <thead>\n",
       "    <tr style=\"text-align: right;\">\n",
       "      <th></th>\n",
       "      <th>Flower Type</th>\n",
       "      <th>Sepal Length</th>\n",
       "      <th>Sepal Width</th>\n",
       "      <th>Petal Length</th>\n",
       "      <th>Petal Width</th>\n",
       "    </tr>\n",
       "  </thead>\n",
       "  <tbody>\n",
       "    <tr>\n",
       "      <th>0</th>\n",
       "      <td>setosa</td>\n",
       "      <td>5.1</td>\n",
       "      <td>3.5</td>\n",
       "      <td>1.4</td>\n",
       "      <td>0.2</td>\n",
       "    </tr>\n",
       "    <tr>\n",
       "      <th>1</th>\n",
       "      <td>setosa</td>\n",
       "      <td>4.9</td>\n",
       "      <td>3.0</td>\n",
       "      <td>1.4</td>\n",
       "      <td>0.2</td>\n",
       "    </tr>\n",
       "    <tr>\n",
       "      <th>2</th>\n",
       "      <td>setosa</td>\n",
       "      <td>4.7</td>\n",
       "      <td>3.2</td>\n",
       "      <td>1.3</td>\n",
       "      <td>0.2</td>\n",
       "    </tr>\n",
       "    <tr>\n",
       "      <th>3</th>\n",
       "      <td>setosa</td>\n",
       "      <td>4.6</td>\n",
       "      <td>3.1</td>\n",
       "      <td>1.5</td>\n",
       "      <td>0.2</td>\n",
       "    </tr>\n",
       "    <tr>\n",
       "      <th>4</th>\n",
       "      <td>setosa</td>\n",
       "      <td>5.0</td>\n",
       "      <td>3.6</td>\n",
       "      <td>1.4</td>\n",
       "      <td>0.2</td>\n",
       "    </tr>\n",
       "  </tbody>\n",
       "</table>\n",
       "</div>"
      ],
      "text/plain": [
       "  Flower Type  Sepal Length  Sepal Width  Petal Length  Petal Width\n",
       "0      setosa           5.1          3.5           1.4          0.2\n",
       "1      setosa           4.9          3.0           1.4          0.2\n",
       "2      setosa           4.7          3.2           1.3          0.2\n",
       "3      setosa           4.6          3.1           1.5          0.2\n",
       "4      setosa           5.0          3.6           1.4          0.2"
      ]
     },
     "execution_count": 21,
     "metadata": {},
     "output_type": "execute_result"
    }
   ],
   "source": [
    "df.head()"
   ]
  },
  {
   "cell_type": "markdown",
   "metadata": {},
   "source": [
    "Cool, we got our data straight from S3 into a Pandas dataframe without writing to disk (that's what the whole `io.BytesIO` part is about.\n",
    "\n",
    "If your data is in a different format than csv or txt, you'll need to change things accordingly. For instance here is an example of getting a json file:"
   ]
  },
  {
   "cell_type": "code",
   "execution_count": 25,
   "metadata": {},
   "outputs": [
    {
     "data": {
      "text/html": [
       "<div>\n",
       "<style>\n",
       "    .dataframe thead tr:only-child th {\n",
       "        text-align: right;\n",
       "    }\n",
       "\n",
       "    .dataframe thead th {\n",
       "        text-align: left;\n",
       "    }\n",
       "\n",
       "    .dataframe tbody tr th {\n",
       "        vertical-align: top;\n",
       "    }\n",
       "</style>\n",
       "<table border=\"1\" class=\"dataframe\">\n",
       "  <thead>\n",
       "    <tr style=\"text-align: right;\">\n",
       "      <th></th>\n",
       "      <th>gameCreation</th>\n",
       "      <th>gameDuration</th>\n",
       "      <th>gameId</th>\n",
       "      <th>gameMode</th>\n",
       "      <th>gameType</th>\n",
       "      <th>gameVersion</th>\n",
       "      <th>mapId</th>\n",
       "      <th>participantIdentities</th>\n",
       "      <th>participants</th>\n",
       "      <th>platformId</th>\n",
       "      <th>queueId</th>\n",
       "      <th>seasonId</th>\n",
       "      <th>teams</th>\n",
       "    </tr>\n",
       "  </thead>\n",
       "  <tbody>\n",
       "    <tr>\n",
       "      <th>0</th>\n",
       "      <td>1504029097863</td>\n",
       "      <td>3509</td>\n",
       "      <td>2585563902</td>\n",
       "      <td>CLASSIC</td>\n",
       "      <td>MATCHED_GAME</td>\n",
       "      <td>7.17.200.3955</td>\n",
       "      <td>11</td>\n",
       "      <td>[{'participantId': 1, 'player': {'platformId':...</td>\n",
       "      <td>[{'participantId': 1, 'teamId': 100, 'champion...</td>\n",
       "      <td>NA1</td>\n",
       "      <td>420</td>\n",
       "      <td>9</td>\n",
       "      <td>[{'teamId': 100, 'win': 'Win', 'firstBlood': T...</td>\n",
       "    </tr>\n",
       "    <tr>\n",
       "      <th>1</th>\n",
       "      <td>1504029495717</td>\n",
       "      <td>3105</td>\n",
       "      <td>2585564285</td>\n",
       "      <td>CLASSIC</td>\n",
       "      <td>MATCHED_GAME</td>\n",
       "      <td>7.17.200.3955</td>\n",
       "      <td>11</td>\n",
       "      <td>[{'participantId': 1, 'player': {'platformId':...</td>\n",
       "      <td>[{'participantId': 1, 'teamId': 100, 'champion...</td>\n",
       "      <td>NA1</td>\n",
       "      <td>420</td>\n",
       "      <td>9</td>\n",
       "      <td>[{'teamId': 100, 'win': 'Fail', 'firstBlood': ...</td>\n",
       "    </tr>\n",
       "    <tr>\n",
       "      <th>2</th>\n",
       "      <td>1504029750399</td>\n",
       "      <td>2764</td>\n",
       "      <td>2585564561</td>\n",
       "      <td>CLASSIC</td>\n",
       "      <td>MATCHED_GAME</td>\n",
       "      <td>7.17.200.3955</td>\n",
       "      <td>11</td>\n",
       "      <td>[{'participantId': 1, 'player': {'platformId':...</td>\n",
       "      <td>[{'participantId': 1, 'teamId': 100, 'champion...</td>\n",
       "      <td>NA1</td>\n",
       "      <td>420</td>\n",
       "      <td>9</td>\n",
       "      <td>[{'teamId': 100, 'win': 'Fail', 'firstBlood': ...</td>\n",
       "    </tr>\n",
       "    <tr>\n",
       "      <th>3</th>\n",
       "      <td>1504029831363</td>\n",
       "      <td>2785</td>\n",
       "      <td>2585564610</td>\n",
       "      <td>CLASSIC</td>\n",
       "      <td>MATCHED_GAME</td>\n",
       "      <td>7.17.200.3955</td>\n",
       "      <td>11</td>\n",
       "      <td>[{'participantId': 1, 'player': {'platformId':...</td>\n",
       "      <td>[{'participantId': 1, 'teamId': 100, 'champion...</td>\n",
       "      <td>NA1</td>\n",
       "      <td>420</td>\n",
       "      <td>9</td>\n",
       "      <td>[{'teamId': 100, 'win': 'Fail', 'firstBlood': ...</td>\n",
       "    </tr>\n",
       "    <tr>\n",
       "      <th>4</th>\n",
       "      <td>1504029887271</td>\n",
       "      <td>2841</td>\n",
       "      <td>2585564622</td>\n",
       "      <td>CLASSIC</td>\n",
       "      <td>MATCHED_GAME</td>\n",
       "      <td>7.17.200.3955</td>\n",
       "      <td>11</td>\n",
       "      <td>[{'participantId': 1, 'player': {'platformId':...</td>\n",
       "      <td>[{'participantId': 1, 'teamId': 100, 'champion...</td>\n",
       "      <td>NA1</td>\n",
       "      <td>420</td>\n",
       "      <td>9</td>\n",
       "      <td>[{'teamId': 100, 'win': 'Win', 'firstBlood': T...</td>\n",
       "    </tr>\n",
       "  </tbody>\n",
       "</table>\n",
       "</div>"
      ],
      "text/plain": [
       "    gameCreation  gameDuration      gameId gameMode      gameType  \\\n",
       "0  1504029097863          3509  2585563902  CLASSIC  MATCHED_GAME   \n",
       "1  1504029495717          3105  2585564285  CLASSIC  MATCHED_GAME   \n",
       "2  1504029750399          2764  2585564561  CLASSIC  MATCHED_GAME   \n",
       "3  1504029831363          2785  2585564610  CLASSIC  MATCHED_GAME   \n",
       "4  1504029887271          2841  2585564622  CLASSIC  MATCHED_GAME   \n",
       "\n",
       "     gameVersion  mapId                              participantIdentities  \\\n",
       "0  7.17.200.3955     11  [{'participantId': 1, 'player': {'platformId':...   \n",
       "1  7.17.200.3955     11  [{'participantId': 1, 'player': {'platformId':...   \n",
       "2  7.17.200.3955     11  [{'participantId': 1, 'player': {'platformId':...   \n",
       "3  7.17.200.3955     11  [{'participantId': 1, 'player': {'platformId':...   \n",
       "4  7.17.200.3955     11  [{'participantId': 1, 'player': {'platformId':...   \n",
       "\n",
       "                                        participants platformId  queueId  \\\n",
       "0  [{'participantId': 1, 'teamId': 100, 'champion...        NA1      420   \n",
       "1  [{'participantId': 1, 'teamId': 100, 'champion...        NA1      420   \n",
       "2  [{'participantId': 1, 'teamId': 100, 'champion...        NA1      420   \n",
       "3  [{'participantId': 1, 'teamId': 100, 'champion...        NA1      420   \n",
       "4  [{'participantId': 1, 'teamId': 100, 'champion...        NA1      420   \n",
       "\n",
       "   seasonId                                              teams  \n",
       "0         9  [{'teamId': 100, 'win': 'Win', 'firstBlood': T...  \n",
       "1         9  [{'teamId': 100, 'win': 'Fail', 'firstBlood': ...  \n",
       "2         9  [{'teamId': 100, 'win': 'Fail', 'firstBlood': ...  \n",
       "3         9  [{'teamId': 100, 'win': 'Fail', 'firstBlood': ...  \n",
       "4         9  [{'teamId': 100, 'win': 'Win', 'firstBlood': T...  "
      ]
     },
     "execution_count": 25,
     "metadata": {},
     "output_type": "execute_result"
    }
   ],
   "source": [
    "import json # need this to read json data properly\n",
    "\n",
    "# we're getting gameplay data from a videogame!\n",
    "file_object = s3.Object('riot-developer-portal', \n",
    "                        'seed-data/matches1.json')\n",
    "\n",
    "\n",
    "json_content = file_object.get()['Body'].read().decode('latin-1')\n",
    "json_content = json.loads(json_content)\n",
    "\n",
    "df = pd.DataFrame.from_records(json_content[\"matches\"])\n",
    "\n",
    "df.head()"
   ]
  },
  {
   "cell_type": "markdown",
   "metadata": {},
   "source": [
    "We just accessed a JSON file from the makers of a videogame called League of Legends and got some gameplay data.\n",
    "\n",
    "So now you know how to get a couple types of data straight from S3!"
   ]
  },
  {
   "cell_type": "markdown",
   "metadata": {},
   "source": [
    "***"
   ]
  },
  {
   "cell_type": "markdown",
   "metadata": {},
   "source": [
    "## That's all for now!"
   ]
  }
 ],
 "metadata": {
  "kernelspec": {
   "display_name": "Python 3",
   "language": "python",
   "name": "python3"
  },
  "language_info": {
   "codemirror_mode": {
    "name": "ipython",
    "version": 3
   },
   "file_extension": ".py",
   "mimetype": "text/x-python",
   "name": "python",
   "nbconvert_exporter": "python",
   "pygments_lexer": "ipython3",
   "version": "3.6.3"
  }
 },
 "nbformat": 4,
 "nbformat_minor": 2
}
