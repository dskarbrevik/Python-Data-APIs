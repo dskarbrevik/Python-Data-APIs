{
 "cells": [
  {
   "cell_type": "markdown",
   "metadata": {},
   "source": [
    "# What is numpy for exactly?\n",
    "\n",
    "Numpy is a Python library that bridges the gap between CS \"arrays\" (or in Python, \"lists\") into Math ideas of \"vectors\" and \"matrices\"... it makes a lot of the things that are easy to do in a language like MATLAB just as easy in Python."
   ]
  },
  {
   "cell_type": "markdown",
   "metadata": {},
   "source": [
    "## Quick overview of `list` in Python (skip if already comfortable with lists)\n",
    "\n",
    "In Python (and most any other programming language) we have objects called \"arrays\". It's just a list of other objects... in fact \"list\" is exactly what Python calls a version of it's \"arrays\" (so the words will be used interchangeably here)... check this out"
   ]
  },
  {
   "cell_type": "code",
   "execution_count": 29,
   "metadata": {},
   "outputs": [
    {
     "name": "stdout",
     "output_type": "stream",
     "text": [
      "array = [1, 2, 3], array is object type = <class 'list'>\n"
     ]
    }
   ],
   "source": [
    "array = [1,2,3]\n",
    "\n",
    "print(\"array = {}, array is object type = {}\".format(array, type(array)))"
   ]
  },
  {
   "cell_type": "markdown",
   "metadata": {},
   "source": [
    "So we just made an array of integers. But if we were being mathy, we could call this a 1 dimensional array a \"vector\".\n",
    "\n",
    "Now what do you make of the example below?"
   ]
  },
  {
   "cell_type": "code",
   "execution_count": 26,
   "metadata": {},
   "outputs": [
    {
     "name": "stdout",
     "output_type": "stream",
     "text": [
      "Our new array = [[1, 2, 3], [4, 5, 6]]\n"
     ]
    }
   ],
   "source": [
    "array2 = [[1,2,3],[4,5,6]]\n",
    "\n",
    "print(\"Our new array = {}\".format(array2))"
   ]
  },
  {
   "cell_type": "markdown",
   "metadata": {},
   "source": [
    "Notice the outer brackets... does this look like two arrays engulfed in another array? Because that's exactly what it is!\n",
    "\n",
    "We can check out the length of an array/list and it's contents to get better intuition like this:"
   ]
  },
  {
   "cell_type": "code",
   "execution_count": 23,
   "metadata": {},
   "outputs": [
    {
     "data": {
      "text/plain": [
       "2"
      ]
     },
     "execution_count": 23,
     "metadata": {},
     "output_type": "execute_result"
    }
   ],
   "source": [
    "# how many objects in our list?\n",
    "len(array2)"
   ]
  },
  {
   "cell_type": "code",
   "execution_count": 27,
   "metadata": {},
   "outputs": [
    {
     "data": {
      "text/plain": [
       "[1, 2, 3]"
      ]
     },
     "execution_count": 27,
     "metadata": {},
     "output_type": "execute_result"
    }
   ],
   "source": [
    "# what's the first object in our list?\n",
    "array2[0]"
   ]
  },
  {
   "cell_type": "code",
   "execution_count": 28,
   "metadata": {},
   "outputs": [
    {
     "data": {
      "text/plain": [
       "3"
      ]
     },
     "execution_count": 28,
     "metadata": {},
     "output_type": "execute_result"
    }
   ],
   "source": [
    "# what's the length of the first object in our list?\n",
    "len(array2[0])"
   ]
  },
  {
   "cell_type": "markdown",
   "metadata": {},
   "source": [
    "Look at that! our \"array2\" object is a list of length 2 because it has two objects in it. The first object turned out to also be a list. We can think of this list of lists as a matrix.\n",
    "\n",
    "So if a list with a single number is a \"scalar\":\n",
    "\n",
    "`[3]`\n",
    "\n",
    "And we can think about a single list with multiple numbers as a \"vector\":\n",
    "\n",
    "`vector = [1,2,3]`\n",
    "\n",
    "Then we can think of a list of lists of multiple numbers as a \"matrix\":\n",
    "\n",
    "`matrix = [[1,2,3],[4,5,6]]`\n",
    "\n",
    "Do you see it? Imagine that the second list was stacked underneath the first list like this:\n",
    "\n",
    "[1,2,3] <br>\n",
    "[4,5,6]\n",
    "\n",
    "Look like a matrix now? OK we're ready to think about numpy now..."
   ]
  },
  {
   "cell_type": "markdown",
   "metadata": {},
   "source": [
    "## Using numpy arrays instead of Python lists"
   ]
  },
  {
   "cell_type": "code",
   "execution_count": 40,
   "metadata": {
    "collapsed": true
   },
   "outputs": [],
   "source": [
    "# before we can start using it, we need to import it\n",
    "# by convention, numpy is usually imported as `np` to make calling its functions easier\n",
    "\n",
    "import numpy as np"
   ]
  },
  {
   "cell_type": "markdown",
   "metadata": {},
   "source": [
    "** Different ways to make a numpy array **"
   ]
  },
  {
   "cell_type": "code",
   "execution_count": 36,
   "metadata": {},
   "outputs": [
    {
     "name": "stdout",
     "output_type": "stream",
     "text": [
      "array1 = [1 4 3 2]\n",
      "array1 has a shape of (4,)\n",
      "\n",
      "array2 = [[3 2 1]\n",
      " [5 3 4]]\n",
      "array2 has a shape of (2, 3)\n",
      "\n",
      "array3 = [[ 0.  0.  0.]\n",
      " [ 0.  0.  0.]\n",
      " [ 0.  0.  0.]]\n",
      "array3 has a shape of (3, 3)\n",
      "\n",
      "array4 = [[[ 0.  0.]\n",
      "  [ 0.  0.]\n",
      "  [ 0.  0.]]\n",
      "\n",
      " [[ 0.  0.]\n",
      "  [ 0.  0.]\n",
      "  [ 0.  0.]]\n",
      "\n",
      " [[ 0.  0.]\n",
      "  [ 0.  0.]\n",
      "  [ 0.  0.]]\n",
      "\n",
      " [[ 0.  0.]\n",
      "  [ 0.  0.]\n",
      "  [ 0.  0.]]]\n",
      "array4 has a shape of (4, 3, 2)\n"
     ]
    }
   ],
   "source": [
    "# you can choose all your own values\n",
    "array1 = np.array([1,4,3,2])\n",
    "\n",
    "print(\"array1 = {}\".format(array1))\n",
    "print(\"array1 has a shape of {}\".format(array1.shape))\n",
    "print(\"\")\n",
    "\n",
    "# you can add other dimensions to the array\n",
    "array2 = np.array([[3,2,1],[5,3,4]])\n",
    "print(\"array2 = {}\".format(array2))\n",
    "print(\"array2 has a shape of {}\".format(array2.shape))\n",
    "print(\"\")\n",
    "\n",
    "# you can just choose the dimensions and make the values all zero\n",
    "array3 = np.zeros([3,3])\n",
    "print(\"array3 = {}\".format(array3))\n",
    "print(\"array3 has a shape of {}\".format(array3.shape))\n",
    "print(\"\")\n",
    "\n",
    "# here's another example with 3 dimensions instead of 2\n",
    "array4 = np.zeros([4,3,2])\n",
    "print(\"array4 = {}\".format(array4))\n",
    "print(\"array4 has a shape of {}\".format(array4.shape))"
   ]
  },
  {
   "cell_type": "markdown",
   "metadata": {},
   "source": [
    "### About \"shapes\" and terms\n",
    "\n",
    "The word shape you see thrown around above refers to the _length_ of each dimension in your array/vector/matrix... \n",
    "\n",
    "For `array1` we see it is shape (4,) meaning it has 4 columns and only 1 row (computationally there is some difference between `(4,)` and `(4,1)` but for our purposes we'll treat them as the same thing). \n",
    "\n",
    "If an object has just 1 row and just 1 column then it is just 1 number... a scalar... like [3]... or [5]...\n",
    "\n",
    "If an object has just 1 row but multiple columns or if it has multiple rows but just one column then it is a vector... like this\n",
    "\n",
    "[2,3,4,5]\n",
    "\n",
    "or\n",
    "\n",
    "[2, <br>\n",
    " 3, <br>\n",
    " 4, <br>\n",
    " 5]\n",
    "\n",
    "If an object has multiple rows and columns then it is a matrix... like `array3` and `array4` in the examples above... however notice that the shape for `array4` is (4,3,2)... it has three numbers... this means it has three dimensions. When your dimensions are three or higher, the idea of rows and columns becomes less useful and instead you should think about it as ordinary space... x,y, and z directions... so `array4` goes 4 deep in X direction, 3 deep in Y direction and 2 deep in Z direction. `array4` is still called a matrix."
   ]
  },
  {
   "cell_type": "markdown",
   "metadata": {},
   "source": [
    "**Note:** Pay very close attention to where the brackets begin and end in a matrix. Especially in the last example above, do you see all three dimensions in the output of array4? "
   ]
  },
  {
   "cell_type": "markdown",
   "metadata": {},
   "source": [
    "## OK I have a numpy array but why is that any different or better than a Python list?\n",
    "\n",
    "Yup! We've only initialized our matrices and vectors but, with `np.zeros` we saw that we could make matrices of arbitrary dimensions very easily. This is technically possible with basic Python lists but it doesn't look as nice.\n",
    "\n",
    "For example, what if I want to make a matrix that's shape (3,4,2)... (three dimensions).\n"
   ]
  },
  {
   "cell_type": "code",
   "execution_count": 51,
   "metadata": {},
   "outputs": [
    {
     "name": "stdout",
     "output_type": "stream",
     "text": [
      "Python list-only matrix:\n",
      "[[[0, 0], [0, 0], [0, 0], [0, 0]], [[0, 0], [0, 0], [0, 0], [0, 0]], [[0, 0], [0, 0], [0, 0], [0, 0]]]\n",
      "\n",
      "The shape of this matrix is (3, 4, 2)\n",
      "\n",
      "Numpy matrix:\n",
      "[[[ 0.  0.]\n",
      "  [ 0.  0.]\n",
      "  [ 0.  0.]\n",
      "  [ 0.  0.]]\n",
      "\n",
      " [[ 0.  0.]\n",
      "  [ 0.  0.]\n",
      "  [ 0.  0.]\n",
      "  [ 0.  0.]]\n",
      "\n",
      " [[ 0.  0.]\n",
      "  [ 0.  0.]\n",
      "  [ 0.  0.]\n",
      "  [ 0.  0.]]]\n",
      "\n",
      "The shape of this matrix is also (3, 4, 2)\n"
     ]
    }
   ],
   "source": [
    "# making the three dimensional matrix with just lists\n",
    "# this uses two \"list comprehensions\" a.k.a. could be rewritten in more lines of code as two for loops\n",
    "matrix = [[[0,0] for i in range(4)] for i in range(3)] \n",
    "print(\"Python list-only matrix:\")\n",
    "print(matrix)\n",
    "print(\"\")\n",
    "print(\"The shape of this matrix is ({}, {}, {})\".format(len(matrix), len(matrix[0]), len(matrix[0][0])))\n",
    "\n",
    "\n",
    "print(\"\")\n",
    "\n",
    "# making the three dimensional matrix with numpy\n",
    "matrix = np.zeros([3,4,2])\n",
    "print(\"Numpy matrix:\")\n",
    "print(matrix)\n",
    "print(\"\")\n",
    "print(\"The shape of this matrix is also {}\".format(matrix.shape))"
   ]
  },
  {
   "cell_type": "markdown",
   "metadata": {},
   "source": [
    "See how much easier and clearer it is with numpy? OK but that's just the surface... of quickly making arrays... yeah basically you're on the surface of the surface... there are a lot of other cool ways like `np.linspace()`. But anyway we'll ignore that for now because what really makes numpy cool is all the mathy operations you can do with your matrices that would require you to write relatively long, complex functions in order to do efficiently without numpy, so let's see that in action!"
   ]
  },
  {
   "cell_type": "markdown",
   "metadata": {},
   "source": [
    "## The real power of numpy -- mathy manipulations\n",
    "\n",
    "Here are some basic operations that numpy can perform on vectors/matrices that are very powerful and easy to write."
   ]
  },
  {
   "cell_type": "code",
   "execution_count": 88,
   "metadata": {},
   "outputs": [
    {
     "name": "stdout",
     "output_type": "stream",
     "text": [
      "[[1 2 3]\n",
      " [4 5 6]\n",
      " [7 8 9]]\n",
      "shape = (3, 3)\n"
     ]
    }
   ],
   "source": [
    "matrix = np.array([[1,2,3],[4,5,6],[7,8,9]])\n",
    "\n",
    "print(matrix)\n",
    "print(\"shape = {}\".format(matrix.shape))"
   ]
  },
  {
   "cell_type": "code",
   "execution_count": 90,
   "metadata": {},
   "outputs": [
    {
     "name": "stdout",
     "output_type": "stream",
     "text": [
      "[[1 4 7]\n",
      " [2 5 8]\n",
      " [3 6 9]]\n"
     ]
    }
   ],
   "source": [
    "print(matrix.T) # transpose the matrix"
   ]
  },
  {
   "cell_type": "code",
   "execution_count": 91,
   "metadata": {},
   "outputs": [
    {
     "name": "stdout",
     "output_type": "stream",
     "text": [
      "[[ 2  4  6]\n",
      " [ 8 10 12]\n",
      " [14 16 18]]\n"
     ]
    }
   ],
   "source": [
    "print(matrix + matrix) # element-wise addition of matrix with itself"
   ]
  },
  {
   "cell_type": "code",
   "execution_count": 92,
   "metadata": {},
   "outputs": [
    {
     "name": "stdout",
     "output_type": "stream",
     "text": [
      "[[ 1  4  9]\n",
      " [16 25 36]\n",
      " [49 64 81]]\n"
     ]
    }
   ],
   "source": [
    "print(matrix * matrix) # element-wise multiplication of matrix with itself"
   ]
  },
  {
   "cell_type": "code",
   "execution_count": 100,
   "metadata": {},
   "outputs": [
    {
     "name": "stdout",
     "output_type": "stream",
     "text": [
      "45\n"
     ]
    }
   ],
   "source": [
    "print(np.sum(matrix)) # element-wise sum"
   ]
  },
  {
   "cell_type": "code",
   "execution_count": 96,
   "metadata": {},
   "outputs": [
    {
     "name": "stdout",
     "output_type": "stream",
     "text": [
      "[ 6 15 24]\n"
     ]
    }
   ],
   "source": [
    "print(np.sum(matrix, axis=1)) # sum across rows"
   ]
  },
  {
   "cell_type": "code",
   "execution_count": 99,
   "metadata": {},
   "outputs": [
    {
     "name": "stdout",
     "output_type": "stream",
     "text": [
      "[12 15 18]\n"
     ]
    }
   ],
   "source": [
    "print(np.sum(matrix, axis=0)) # sum across columns"
   ]
  },
  {
   "cell_type": "code",
   "execution_count": 102,
   "metadata": {},
   "outputs": [
    {
     "name": "stdout",
     "output_type": "stream",
     "text": [
      "5.0\n"
     ]
    }
   ],
   "source": [
    "print(np.average(matrix)) # you can use the axis paramater for this too if you want"
   ]
  },
  {
   "cell_type": "code",
   "execution_count": 103,
   "metadata": {},
   "outputs": [
    {
     "data": {
      "text/plain": [
       "array([[ 0.        ,  0.69314718,  1.09861229],\n",
       "       [ 1.38629436,  1.60943791,  1.79175947],\n",
       "       [ 1.94591015,  2.07944154,  2.19722458]])"
      ]
     },
     "execution_count": 103,
     "metadata": {},
     "output_type": "execute_result"
    }
   ],
   "source": [
    "np.log(matrix)"
   ]
  },
  {
   "cell_type": "code",
   "execution_count": 104,
   "metadata": {},
   "outputs": [
    {
     "data": {
      "text/plain": [
       "array([ 0.45987701,  0.94626132,  0.73269401,  0.6832598 ,  0.38347884,\n",
       "        0.56357137,  0.28978258,  0.45900607,  0.26021896,  0.85282797])"
      ]
     },
     "execution_count": 104,
     "metadata": {},
     "output_type": "execute_result"
    }
   ],
   "source": [
    "np.random.rand(10) # make random numbers"
   ]
  },
  {
   "cell_type": "code",
   "execution_count": 107,
   "metadata": {},
   "outputs": [
    {
     "data": {
      "text/plain": [
       "array([  1.,   2.,   3.,   4.,   5.,   6.,   7.,   8.,   9.,  10.])"
      ]
     },
     "execution_count": 107,
     "metadata": {},
     "output_type": "execute_result"
    }
   ],
   "source": [
    "np.linspace(1,10,10) # (start,stop,n) make evenly spaced array"
   ]
  },
  {
   "cell_type": "code",
   "execution_count": 108,
   "metadata": {},
   "outputs": [
    {
     "data": {
      "text/plain": [
       "array([0, 1, 2, 3, 4, 5, 6, 7, 8, 9])"
      ]
     },
     "execution_count": 108,
     "metadata": {},
     "output_type": "execute_result"
    }
   ],
   "source": [
    "np.arange(10) # range() for a numpy array"
   ]
  },
  {
   "cell_type": "markdown",
   "metadata": {},
   "source": [
    "So that's just the beginning really, but that should be more than enough to see how fundamentally important numpy is for Python! Also note that most (if not all?) these functions are vectorized so their use in large data contexts like deep learning becomes all the more important."
   ]
  },
  {
   "cell_type": "markdown",
   "metadata": {},
   "source": [
    "## Bonus lesson! Keeping dimensions straight....\n",
    "\n",
    "When you're doing matrix calculations one of the biggest sources of bugs/errors comes from issues with dimensions. You thought the dimensions were this thing, but they turned out to be something else after one of your steps and that caused an error... I had a professor that recommended you write on paper the dimensions of each variable/matrix before and after dimensions each step of your program before you start to code. This isn't a bad idea, but for starters lets just help you build some intuition about how dimensions change/interact in numpy. \n",
    "\n",
    "In each example really pay attention to the dimensions of the matrices/vectors before and after the operation and think if the results make sense to you."
   ]
  },
  {
   "cell_type": "markdown",
   "metadata": {},
   "source": [
    "**Matrix x Vector (element-wise multiplication)**"
   ]
  },
  {
   "cell_type": "code",
   "execution_count": 58,
   "metadata": {},
   "outputs": [
    {
     "name": "stdout",
     "output_type": "stream",
     "text": [
      "[[ 2  6]\n",
      " [ 6 12]]\n",
      "shape = (2, 2)\n"
     ]
    }
   ],
   "source": [
    "matrix = np.array([[1,2],[3,4]])\n",
    "vector = np.array([2,3])\n",
    "\n",
    "result = matrix * vector\n",
    "\n",
    "print(result)\n",
    "print(\"shape = {}\".format(result.shape))"
   ]
  },
  {
   "cell_type": "markdown",
   "metadata": {},
   "source": [
    "**Matrix $\\cdot$ Vector (dot product)**"
   ]
  },
  {
   "cell_type": "code",
   "execution_count": 59,
   "metadata": {},
   "outputs": [
    {
     "name": "stdout",
     "output_type": "stream",
     "text": [
      "[ 8 18]\n",
      "shape = (2,)\n"
     ]
    }
   ],
   "source": [
    "matrix = np.array([[1,2],[3,4]])\n",
    "vector = np.array([2,3])\n",
    "\n",
    "\n",
    "result = np.dot(matrix,vector) # dot product of matrix and vector\n",
    "\n",
    "print(result)\n",
    "print(\"shape = {}\".format(result.shape))"
   ]
  },
  {
   "cell_type": "markdown",
   "metadata": {},
   "source": [
    "**Matrix $\\cdot$ Matrix (dot product)**"
   ]
  },
  {
   "cell_type": "code",
   "execution_count": 60,
   "metadata": {},
   "outputs": [
    {
     "name": "stdout",
     "output_type": "stream",
     "text": [
      "[[19 22]\n",
      " [43 50]]\n",
      "shape = (2, 2)\n"
     ]
    }
   ],
   "source": [
    "matrix1 = np.array([[1,2],[3,4]])\n",
    "matrix2 = np.array([[5,6],[7,8]])\n",
    "\n",
    "result = np.dot(matrix1,matrix2) # dot product of matrix and matrix\n",
    "\n",
    "print(result)\n",
    "print(\"shape = {}\".format(result.shape))"
   ]
  },
  {
   "cell_type": "markdown",
   "metadata": {},
   "source": [
    "**Matrix $\\cdot$ Matrix$^T$ (dot product)**"
   ]
  },
  {
   "cell_type": "code",
   "execution_count": 67,
   "metadata": {},
   "outputs": [
    {
     "name": "stdout",
     "output_type": "stream",
     "text": [
      "Matrix2 originally:\n",
      "[[5 6]\n",
      " [7 8]]\n",
      "\n",
      "Matrix2 transposed:\n",
      "[[5 7]\n",
      " [6 8]]\n",
      "\n",
      "np.dot(matrix1,matrix2.T) = \n",
      "[[17 23]\n",
      " [39 53]]\n",
      "shape = (2, 2)\n"
     ]
    }
   ],
   "source": [
    "matrix1 = np.array([[1,2],[3,4]])\n",
    "matrix2 = np.array([[5,6],[7,8]])\n",
    "\n",
    "result = np.dot(matrix1,matrix2.T) # notice that matrix2 is \"transposed\"\n",
    "\n",
    "print(\"Matrix2 originally:\")\n",
    "print(matrix2)\n",
    "print(\"\")\n",
    "print(\"Matrix2 transposed:\")\n",
    "print(matrix2.T)\n",
    "print(\"\")\n",
    "print(\"np.dot(matrix1,matrix2.T) = \")\n",
    "print(result)\n",
    "print(\"shape = {}\".format(result.shape))"
   ]
  },
  {
   "cell_type": "markdown",
   "metadata": {},
   "source": [
    "**Matrices with different dimensions (dot product)**"
   ]
  },
  {
   "cell_type": "code",
   "execution_count": 109,
   "metadata": {},
   "outputs": [
    {
     "name": "stdout",
     "output_type": "stream",
     "text": [
      "shape of matrix1 = (2, 2)\n",
      "shape of matrix2 = (2, 3)\n",
      "\n",
      "np.dot(matrix1,matrix2) = \n",
      "[[19 22 25]\n",
      " [43 50 57]]\n",
      "shape of this matrix = (2, 3)\n"
     ]
    }
   ],
   "source": [
    "matrix1 = np.array([[1,2],[3,4]])\n",
    "matrix2 = np.array([[5,6,7],[7,8,9]])\n",
    "\n",
    "result = np.dot(matrix1,matrix2) # do you think this will work?\n",
    "\n",
    "print(\"shape of matrix1 = {}\".format(matrix1.shape))\n",
    "print(\"shape of matrix2 = {}\".format(matrix2.shape))\n",
    "print(\"\")\n",
    "print(\"np.dot(matrix1,matrix2) = \")\n",
    "print(result)\n",
    "print(\"shape of this matrix = {}\".format(result.shape))"
   ]
  },
  {
   "cell_type": "markdown",
   "metadata": {},
   "source": [
    "**Pay attention to dimensions!**"
   ]
  },
  {
   "cell_type": "code",
   "execution_count": 111,
   "metadata": {},
   "outputs": [
    {
     "name": "stdout",
     "output_type": "stream",
     "text": [
      "shape of matrix1 = (2, 2)\n",
      "shape of matrix2 = (2, 3)\n"
     ]
    }
   ],
   "source": [
    "matrix1 = np.array([[1,2],[3,4]])\n",
    "matrix2 = np.array([[5,6,7],[7,8,9]])\n",
    "matrix2 = matrix2.T # transposed matrix2\n",
    "\n",
    "try:\n",
    "    result = np.dot(matrix1,matrix2) # do you think THIS will work???\n",
    "except:\n",
    "    print(\"We couldn't take the dot product! Why not? :( \\n\")\n",
    "\n",
    "print(\"shape of matrix1 = {}\".format(matrix1.shape))\n",
    "print(\"shape of matrix2 = {}\".format(matrix2.shape))"
   ]
  },
  {
   "cell_type": "markdown",
   "metadata": {},
   "source": [
    "**Why does this one work but the previous example doesn't?**"
   ]
  },
  {
   "cell_type": "code",
   "execution_count": 98,
   "metadata": {},
   "outputs": [
    {
     "name": "stdout",
     "output_type": "stream",
     "text": [
      "shape of matrix1 = (2, 2)\n",
      "shape of matrix2 = (3, 2)\n",
      "\n",
      "np.dot(matrix1,matrix2) = \n",
      "[[26 38]\n",
      " [30 44]\n",
      " [34 50]]\n",
      "shape of this matrix = (3, 2)\n"
     ]
    }
   ],
   "source": [
    "matrix1 = np.array([[1,2],[3,4]])\n",
    "matrix2 = np.array([[5,6,7],[7,8,9]])\n",
    "matrix2 = matrix2.T\n",
    "\n",
    "result = np.dot(matrix2,matrix1) # we switched the order\n",
    "\n",
    "print(\"shape of matrix1 = {}\".format(matrix1.shape))\n",
    "print(\"shape of matrix2 = {}\".format(matrix2.shape))\n",
    "print(\"\")\n",
    "print(\"np.dot(matrix2,matrix1) = \") \n",
    "print(result)\n",
    "print(\"shape of this matrix = {}\".format(result.shape))"
   ]
  },
  {
   "cell_type": "markdown",
   "metadata": {},
   "source": [
    "Hopefully all this seemed clear to you! If not, mess around with the code to try different things out!"
   ]
  },
  {
   "cell_type": "markdown",
   "metadata": {},
   "source": [
    "### That's it for this tutorial!\n",
    "\n",
    "You now have a pretty solid start on how to use numpy and what it can do for you... there's obviously a lot more though so always a great idea to check out the <a href=\"https://docs.scipy.org/doc/numpy-1.14.0/reference/\">documentation</a> if you're curious. "
   ]
  },
  {
   "cell_type": "code",
   "execution_count": null,
   "metadata": {
    "collapsed": true
   },
   "outputs": [],
   "source": []
  }
 ],
 "metadata": {
  "kernelspec": {
   "display_name": "Python 3",
   "language": "python",
   "name": "python3"
  },
  "language_info": {
   "codemirror_mode": {
    "name": "ipython",
    "version": 3
   },
   "file_extension": ".py",
   "mimetype": "text/x-python",
   "name": "python",
   "nbconvert_exporter": "python",
   "pygments_lexer": "ipython3",
   "version": "3.6.3"
  }
 },
 "nbformat": 4,
 "nbformat_minor": 2
}
