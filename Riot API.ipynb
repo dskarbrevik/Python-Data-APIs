{
 "cells": [
  {
   "cell_type": "markdown",
   "metadata": {},
   "source": [
    "# Riot API\n",
    "\n",
    "<a href=\"https://developer.riotgames.com/api-methods/#match-v3/GET_getMatch\"><b>Official API documentation</b></a>\n",
    "\n",
    "**Description:** Riot is the maker of a very popular video game called League of Legends. This API (and associated Python wrapper) lets you access data about players and matches.\n",
    "\n",
    "**Library name:** <a href=\"https://github.com/meraki-analytics/cassiopeia\">Cassiopeia</a>\n",
    "\n",
    "**Documentation:** <a href=\"http://cassiopeia.readthedocs.io/en/latest/\">here</a>\n",
    "\n",
    "**Library officially supported by API?** No\n",
    "\n",
    "**Needs user account to get API key/secret/token?:** Yes, <a href=\"https://developer.riotgames.com/getting-started.html\">look here</a> for more info.\n",
    "\n",
    "**Special requirements to get access to this API?:** No\n"
   ]
  },
  {
   "cell_type": "code",
   "execution_count": 9,
   "metadata": {
    "collapsed": true
   },
   "outputs": [],
   "source": [
    "import cassiopeia as cass\n",
    "\n",
    "cass.set_riot_api_key(\"RGAPI-6637fdbb-93ea-4bdf-af6e-8590e02c9e17\") # API key that you get from your account\n",
    "cass.set_default_region(\"NA\")\n",
    "\n",
    "summoner = cass.get_summoner(name=\"Msendak\")\n"
   ]
  },
  {
   "cell_type": "code",
   "execution_count": 10,
   "metadata": {},
   "outputs": [
    {
     "name": "stdout",
     "output_type": "stream",
     "text": [
      "Making call: https://na1.api.riotgames.com/lol/summoner/v3/summoners/by-name/Msendak\n",
      "Msendak is a level 45 summoner on the Region.north_america server.\n"
     ]
    }
   ],
   "source": [
    "print(\"{name} is a level {level} summoner on the {region} server.\".format(name=summoner.name,\n",
    "                                                                          level=summoner.level,\n",
    "                                                                          region=summoner.region))"
   ]
  },
  {
   "cell_type": "code",
   "execution_count": 6,
   "metadata": {
    "collapsed": true
   },
   "outputs": [],
   "source": [
    "champions = cass.get_champions()"
   ]
  },
  {
   "cell_type": "code",
   "execution_count": 8,
   "metadata": {},
   "outputs": [
    {
     "data": {
      "text/plain": [
       "cassiopeia.core.staticdata.champion.Champion"
      ]
     },
     "execution_count": 8,
     "metadata": {},
     "output_type": "execute_result"
    }
   ],
   "source": [
    "type(champ)"
   ]
  },
  {
   "cell_type": "code",
   "execution_count": 4,
   "metadata": {},
   "outputs": [
    {
     "ename": "AttributeError",
     "evalue": "ranked_solo",
     "output_type": "error",
     "traceback": [
      "\u001b[1;31m---------------------------------------------------------------------------\u001b[0m",
      "\u001b[1;31mAttributeError\u001b[0m                            Traceback (most recent call last)",
      "\u001b[1;32m<ipython-input-4-85dd6929289f>\u001b[0m in \u001b[0;36m<module>\u001b[1;34m()\u001b[0m\n\u001b[1;32m----> 1\u001b[1;33m \u001b[0mchallenger_league\u001b[0m \u001b[1;33m=\u001b[0m \u001b[0mcass\u001b[0m\u001b[1;33m.\u001b[0m\u001b[0mget_challenger_league\u001b[0m\u001b[1;33m(\u001b[0m\u001b[0mqueue\u001b[0m\u001b[1;33m=\u001b[0m\u001b[0mcass\u001b[0m\u001b[1;33m.\u001b[0m\u001b[0mQueue\u001b[0m\u001b[1;33m.\u001b[0m\u001b[0mranked_solo\u001b[0m\u001b[1;33m)\u001b[0m\u001b[1;33m\u001b[0m\u001b[0m\n\u001b[0m\u001b[0;32m      2\u001b[0m \u001b[0mbest_na\u001b[0m \u001b[1;33m=\u001b[0m \u001b[0mchallenger_league\u001b[0m\u001b[1;33m[\u001b[0m\u001b[1;36m0\u001b[0m\u001b[1;33m]\u001b[0m\u001b[1;33m.\u001b[0m\u001b[0msummoner\u001b[0m\u001b[1;33m\u001b[0m\u001b[0m\n",
      "\u001b[1;32m~\\Anaconda3\\lib\\enum.py\u001b[0m in \u001b[0;36m__getattr__\u001b[1;34m(cls, name)\u001b[0m\n\u001b[0;32m    322\u001b[0m             \u001b[1;32mreturn\u001b[0m \u001b[0mcls\u001b[0m\u001b[1;33m.\u001b[0m\u001b[0m_member_map_\u001b[0m\u001b[1;33m[\u001b[0m\u001b[0mname\u001b[0m\u001b[1;33m]\u001b[0m\u001b[1;33m\u001b[0m\u001b[0m\n\u001b[0;32m    323\u001b[0m         \u001b[1;32mexcept\u001b[0m \u001b[0mKeyError\u001b[0m\u001b[1;33m:\u001b[0m\u001b[1;33m\u001b[0m\u001b[0m\n\u001b[1;32m--> 324\u001b[1;33m             \u001b[1;32mraise\u001b[0m \u001b[0mAttributeError\u001b[0m\u001b[1;33m(\u001b[0m\u001b[0mname\u001b[0m\u001b[1;33m)\u001b[0m \u001b[1;32mfrom\u001b[0m \u001b[1;32mNone\u001b[0m\u001b[1;33m\u001b[0m\u001b[0m\n\u001b[0m\u001b[0;32m    325\u001b[0m \u001b[1;33m\u001b[0m\u001b[0m\n\u001b[0;32m    326\u001b[0m     \u001b[1;32mdef\u001b[0m \u001b[0m__getitem__\u001b[0m\u001b[1;33m(\u001b[0m\u001b[0mcls\u001b[0m\u001b[1;33m,\u001b[0m \u001b[0mname\u001b[0m\u001b[1;33m)\u001b[0m\u001b[1;33m:\u001b[0m\u001b[1;33m\u001b[0m\u001b[0m\n",
      "\u001b[1;31mAttributeError\u001b[0m: ranked_solo"
     ]
    }
   ],
   "source": [
    "challenger_league = cass.get_challenger_league(queue=cass.Queue.ranked_solo)\n",
    "best_na = challenger_league[0].summoner"
   ]
  },
  {
   "cell_type": "code",
   "execution_count": null,
   "metadata": {
    "collapsed": true
   },
   "outputs": [],
   "source": []
  }
 ],
 "metadata": {
  "kernelspec": {
   "display_name": "Python 3",
   "language": "python",
   "name": "python3"
  },
  "language_info": {
   "codemirror_mode": {
    "name": "ipython",
    "version": 3
   },
   "file_extension": ".py",
   "mimetype": "text/x-python",
   "name": "python",
   "nbconvert_exporter": "python",
   "pygments_lexer": "ipython3",
   "version": "3.6.3"
  }
 },
 "nbformat": 4,
 "nbformat_minor": 2
}
