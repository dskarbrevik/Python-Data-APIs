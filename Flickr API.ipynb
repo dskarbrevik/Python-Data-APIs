{
 "cells": [
  {
   "cell_type": "markdown",
   "metadata": {},
   "source": [
    "# Flickr API"
   ]
  },
  {
   "cell_type": "markdown",
   "metadata": {},
   "source": [
    "This example uses the \"flickrapi\" to request photos from https://www.flickr.com/. This is one of the best ways to quickly collect a large number of quality photos for a specific keyword (i.e. for training CNN for image classification task).\n",
    "\n",
    "\n",
    "**Note:**\n",
    "\n",
    "\"url_o\" means get image in original size. Set to \"url_c\" for \"medium\" sized image. Get key/secret by going to flickr's website and setting up an app/developer account."
   ]
  },
  {
   "cell_type": "code",
   "execution_count": null,
   "metadata": {
    "collapsed": true
   },
   "outputs": [],
   "source": [
    "import flickrapi\n",
    "import urllib\n",
    "\n",
    "api_key = u'xxxxxxxxxxxxxxxxxx'\n",
    "api_secret = u'xxxxxxxxxxxxxxxx'\n",
    "\n",
    "\n",
    "flickr = flickrapi.FlickrAPI(api_key, api_secret)\n",
    "\n",
    "photos = flickr.walk(text='apple pie',\n",
    "        sort='relevance',\n",
    "        extras='url_o',\n",
    "        per_page=50)                                    \n",
    "#         min_taken_date='2008-08-20',\n",
    "#         max_taken_date='2008-08-30')\n",
    "\n",
    "count = 0\n",
    "results_folder = \"/path/to/file/\"\n",
    "for photo in photos:\n",
    "    try:\n",
    "        url=photo.get('url_o')\n",
    "        print(url)\n",
    "        count += 1\n",
    "        urllib.request.urlretrieve(url,  results_folder + str(count) +\".jpg\")\n",
    "    except Exception as e:\n",
    "        print(e, 'Download failure')"
   ]
  }
 ],
 "metadata": {
  "kernelspec": {
   "display_name": "Python 3",
   "language": "python",
   "name": "python3"
  },
  "language_info": {
   "codemirror_mode": {
    "name": "ipython",
    "version": 3
   },
   "file_extension": ".py",
   "mimetype": "text/x-python",
   "name": "python",
   "nbconvert_exporter": "python",
   "pygments_lexer": "ipython3",
   "version": "3.6.3"
  }
 },
 "nbformat": 4,
 "nbformat_minor": 2
}
