{
 "cells": [
  {
   "cell_type": "markdown",
   "metadata": {},
   "source": [
    "# Pandas Basics\n",
    "\n",
    "How to begin exploring a dataset with Pandas (and maybe some other standard Python data tools)."
   ]
  },
  {
   "cell_type": "code",
   "execution_count": 1,
   "metadata": {},
   "outputs": [],
   "source": [
    "import pandas as pd\n",
    "import numpy as np\n",
    "from collections import Counter\n",
    "import matplotlib.pyplot as plt\n",
    "import seaborn as sns\n",
    "import arrow\n",
    "import datetime\n",
    "\n",
    "\n",
    "%matplotlib inline\n",
    "\n",
    "import seaborn as sns\n",
    "sns.set(color_codes=True)\n",
    "\n",
    "import warnings\n",
    "warnings.filterwarnings(\"ignore\")"
   ]
  },
  {
   "cell_type": "markdown",
   "metadata": {},
   "source": [
    "There are a lot of libraries above but the only one to focus on for now is the `import pandas as pd`. It is convention to abbreviate calls to Pandas as pd.\n",
    "\n",
    "The Pandas library comes down to two object types:\n",
    "\n",
    "* Series\n",
    "* DataFrame\n",
    "\n",
    "For our purposes a DataFrame is your basic rows/column data table and a Series is just a 1-D DataFrame (a single column). Understanding how to get slices of data from your DataFrame and all the cool functions a DataFrame has is the key to feeling comfortable with Pandas.\n",
    "\n",
    "Now let's get started!\n",
    "\n",
    "This tutorial we'll be looking at Yelp user data. There quite a few columns in this data and Pandas will want to truncate any output it shows us so first we'll change a couple global Pandas options."
   ]
  },
  {
   "cell_type": "code",
   "execution_count": 13,
   "metadata": {},
   "outputs": [],
   "source": [
    "pd.set_option('display.max_columns', 200)\n",
    "pd.set_option('display.max_rows', 200)"
   ]
  },
  {
   "cell_type": "markdown",
   "metadata": {},
   "source": [
    "We're ready to make our first Pandas DataFrame!"
   ]
  },
  {
   "cell_type": "markdown",
   "metadata": {},
   "source": [
    "**Importing a csv file**"
   ]
  },
  {
   "cell_type": "code",
   "execution_count": 2,
   "metadata": {},
   "outputs": [],
   "source": [
    "df = pd.read_csv(\"E:\\\\Data Science Playgrounds\\\\Yelp dataset\\\\yelp_user.csv\")"
   ]
  },
  {
   "cell_type": "code",
   "execution_count": 22,
   "metadata": {},
   "outputs": [
    {
     "name": "stdout",
     "output_type": "stream",
     "text": [
      "<class 'pandas.core.frame.DataFrame'>\n"
     ]
    }
   ],
   "source": [
    "print(type(df))"
   ]
  },
  {
   "cell_type": "markdown",
   "metadata": {},
   "source": [
    "There it is! Our Yelp dataset is now a Pandas DataFrame."
   ]
  },
  {
   "cell_type": "markdown",
   "metadata": {},
   "source": [
    "**Looking at the first few rows of a dataset**"
   ]
  },
  {
   "cell_type": "code",
   "execution_count": 14,
   "metadata": {},
   "outputs": [
    {
     "data": {
      "text/html": [
       "<div>\n",
       "<style scoped>\n",
       "    .dataframe tbody tr th:only-of-type {\n",
       "        vertical-align: middle;\n",
       "    }\n",
       "\n",
       "    .dataframe tbody tr th {\n",
       "        vertical-align: top;\n",
       "    }\n",
       "\n",
       "    .dataframe thead th {\n",
       "        text-align: right;\n",
       "    }\n",
       "</style>\n",
       "<table border=\"1\" class=\"dataframe\">\n",
       "  <thead>\n",
       "    <tr style=\"text-align: right;\">\n",
       "      <th></th>\n",
       "      <th>user_id</th>\n",
       "      <th>name</th>\n",
       "      <th>review_count</th>\n",
       "      <th>yelping_since</th>\n",
       "      <th>friends</th>\n",
       "      <th>useful</th>\n",
       "      <th>funny</th>\n",
       "      <th>cool</th>\n",
       "      <th>fans</th>\n",
       "      <th>elite</th>\n",
       "      <th>average_stars</th>\n",
       "      <th>compliment_hot</th>\n",
       "      <th>compliment_more</th>\n",
       "      <th>compliment_profile</th>\n",
       "      <th>compliment_cute</th>\n",
       "      <th>compliment_list</th>\n",
       "      <th>compliment_note</th>\n",
       "      <th>compliment_plain</th>\n",
       "      <th>compliment_cool</th>\n",
       "      <th>compliment_funny</th>\n",
       "      <th>compliment_writer</th>\n",
       "      <th>compliment_photos</th>\n",
       "    </tr>\n",
       "  </thead>\n",
       "  <tbody>\n",
       "    <tr>\n",
       "      <th>0</th>\n",
       "      <td>JJ-aSuM4pCFPdkfoZ34q0Q</td>\n",
       "      <td>Chris</td>\n",
       "      <td>10</td>\n",
       "      <td>2013-09-24</td>\n",
       "      <td>0njfJmB-7n84DlIgUByCNw, rFn3Xe3RqHxRSxWOU19Gpg...</td>\n",
       "      <td>0</td>\n",
       "      <td>0</td>\n",
       "      <td>0</td>\n",
       "      <td>0</td>\n",
       "      <td>None</td>\n",
       "      <td>3.70</td>\n",
       "      <td>0</td>\n",
       "      <td>0</td>\n",
       "      <td>0</td>\n",
       "      <td>0</td>\n",
       "      <td>0</td>\n",
       "      <td>0</td>\n",
       "      <td>0</td>\n",
       "      <td>0</td>\n",
       "      <td>0</td>\n",
       "      <td>0</td>\n",
       "      <td>0</td>\n",
       "    </tr>\n",
       "    <tr>\n",
       "      <th>1</th>\n",
       "      <td>uUzsFQn_6cXDh6rPNGbIFA</td>\n",
       "      <td>Tiffy</td>\n",
       "      <td>1</td>\n",
       "      <td>2017-03-02</td>\n",
       "      <td>None</td>\n",
       "      <td>0</td>\n",
       "      <td>0</td>\n",
       "      <td>0</td>\n",
       "      <td>0</td>\n",
       "      <td>None</td>\n",
       "      <td>2.00</td>\n",
       "      <td>0</td>\n",
       "      <td>0</td>\n",
       "      <td>0</td>\n",
       "      <td>0</td>\n",
       "      <td>0</td>\n",
       "      <td>0</td>\n",
       "      <td>0</td>\n",
       "      <td>0</td>\n",
       "      <td>0</td>\n",
       "      <td>0</td>\n",
       "      <td>0</td>\n",
       "    </tr>\n",
       "    <tr>\n",
       "      <th>2</th>\n",
       "      <td>mBneaEEH5EMyxaVyqS-72A</td>\n",
       "      <td>Mark</td>\n",
       "      <td>6</td>\n",
       "      <td>2015-03-13</td>\n",
       "      <td>None</td>\n",
       "      <td>0</td>\n",
       "      <td>0</td>\n",
       "      <td>0</td>\n",
       "      <td>0</td>\n",
       "      <td>None</td>\n",
       "      <td>4.67</td>\n",
       "      <td>0</td>\n",
       "      <td>0</td>\n",
       "      <td>0</td>\n",
       "      <td>0</td>\n",
       "      <td>0</td>\n",
       "      <td>0</td>\n",
       "      <td>0</td>\n",
       "      <td>0</td>\n",
       "      <td>0</td>\n",
       "      <td>0</td>\n",
       "      <td>0</td>\n",
       "    </tr>\n",
       "    <tr>\n",
       "      <th>3</th>\n",
       "      <td>W5mJGs-dcDWRGEhAzUYtoA</td>\n",
       "      <td>Evelyn</td>\n",
       "      <td>3</td>\n",
       "      <td>2016-09-08</td>\n",
       "      <td>None</td>\n",
       "      <td>0</td>\n",
       "      <td>0</td>\n",
       "      <td>0</td>\n",
       "      <td>0</td>\n",
       "      <td>None</td>\n",
       "      <td>4.67</td>\n",
       "      <td>0</td>\n",
       "      <td>0</td>\n",
       "      <td>0</td>\n",
       "      <td>0</td>\n",
       "      <td>0</td>\n",
       "      <td>0</td>\n",
       "      <td>0</td>\n",
       "      <td>0</td>\n",
       "      <td>0</td>\n",
       "      <td>0</td>\n",
       "      <td>0</td>\n",
       "    </tr>\n",
       "    <tr>\n",
       "      <th>4</th>\n",
       "      <td>4E8--zUZO1Rr1IBK4_83fg</td>\n",
       "      <td>Lisa</td>\n",
       "      <td>11</td>\n",
       "      <td>2012-07-16</td>\n",
       "      <td>None</td>\n",
       "      <td>4</td>\n",
       "      <td>0</td>\n",
       "      <td>0</td>\n",
       "      <td>0</td>\n",
       "      <td>None</td>\n",
       "      <td>3.45</td>\n",
       "      <td>0</td>\n",
       "      <td>0</td>\n",
       "      <td>0</td>\n",
       "      <td>0</td>\n",
       "      <td>0</td>\n",
       "      <td>0</td>\n",
       "      <td>0</td>\n",
       "      <td>0</td>\n",
       "      <td>0</td>\n",
       "      <td>1</td>\n",
       "      <td>0</td>\n",
       "    </tr>\n",
       "  </tbody>\n",
       "</table>\n",
       "</div>"
      ],
      "text/plain": [
       "                  user_id    name  review_count yelping_since  \\\n",
       "0  JJ-aSuM4pCFPdkfoZ34q0Q   Chris            10    2013-09-24   \n",
       "1  uUzsFQn_6cXDh6rPNGbIFA   Tiffy             1    2017-03-02   \n",
       "2  mBneaEEH5EMyxaVyqS-72A    Mark             6    2015-03-13   \n",
       "3  W5mJGs-dcDWRGEhAzUYtoA  Evelyn             3    2016-09-08   \n",
       "4  4E8--zUZO1Rr1IBK4_83fg    Lisa            11    2012-07-16   \n",
       "\n",
       "                                             friends  useful  funny  cool  \\\n",
       "0  0njfJmB-7n84DlIgUByCNw, rFn3Xe3RqHxRSxWOU19Gpg...       0      0     0   \n",
       "1                                               None       0      0     0   \n",
       "2                                               None       0      0     0   \n",
       "3                                               None       0      0     0   \n",
       "4                                               None       4      0     0   \n",
       "\n",
       "   fans elite  average_stars  compliment_hot  compliment_more  \\\n",
       "0     0  None           3.70               0                0   \n",
       "1     0  None           2.00               0                0   \n",
       "2     0  None           4.67               0                0   \n",
       "3     0  None           4.67               0                0   \n",
       "4     0  None           3.45               0                0   \n",
       "\n",
       "   compliment_profile  compliment_cute  compliment_list  compliment_note  \\\n",
       "0                   0                0                0                0   \n",
       "1                   0                0                0                0   \n",
       "2                   0                0                0                0   \n",
       "3                   0                0                0                0   \n",
       "4                   0                0                0                0   \n",
       "\n",
       "   compliment_plain  compliment_cool  compliment_funny  compliment_writer  \\\n",
       "0                 0                0                 0                  0   \n",
       "1                 0                0                 0                  0   \n",
       "2                 0                0                 0                  0   \n",
       "3                 0                0                 0                  0   \n",
       "4                 0                0                 0                  1   \n",
       "\n",
       "   compliment_photos  \n",
       "0                  0  \n",
       "1                  0  \n",
       "2                  0  \n",
       "3                  0  \n",
       "4                  0  "
      ]
     },
     "execution_count": 14,
     "metadata": {},
     "output_type": "execute_result"
    }
   ],
   "source": [
    "df.head(n=5)"
   ]
  },
  {
   "cell_type": "markdown",
   "metadata": {},
   "source": [
    "**Getting the number of (rows, columns) in a dataset**"
   ]
  },
  {
   "cell_type": "code",
   "execution_count": 3,
   "metadata": {},
   "outputs": [
    {
     "data": {
      "text/plain": [
       "(1326100, 22)"
      ]
     },
     "execution_count": 3,
     "metadata": {},
     "output_type": "execute_result"
    }
   ],
   "source": [
    "df.shape"
   ]
  },
  {
   "cell_type": "markdown",
   "metadata": {},
   "source": [
    "**Quickly get descriptive statistics from columns**"
   ]
  },
  {
   "cell_type": "code",
   "execution_count": 5,
   "metadata": {},
   "outputs": [
    {
     "data": {
      "text/html": [
       "<div>\n",
       "<style scoped>\n",
       "    .dataframe tbody tr th:only-of-type {\n",
       "        vertical-align: middle;\n",
       "    }\n",
       "\n",
       "    .dataframe tbody tr th {\n",
       "        vertical-align: top;\n",
       "    }\n",
       "\n",
       "    .dataframe thead th {\n",
       "        text-align: right;\n",
       "    }\n",
       "</style>\n",
       "<table border=\"1\" class=\"dataframe\">\n",
       "  <thead>\n",
       "    <tr style=\"text-align: right;\">\n",
       "      <th></th>\n",
       "      <th>review_count</th>\n",
       "      <th>useful</th>\n",
       "      <th>funny</th>\n",
       "      <th>cool</th>\n",
       "      <th>fans</th>\n",
       "      <th>average_stars</th>\n",
       "      <th>compliment_hot</th>\n",
       "      <th>compliment_more</th>\n",
       "      <th>compliment_profile</th>\n",
       "      <th>compliment_cute</th>\n",
       "      <th>compliment_list</th>\n",
       "      <th>compliment_note</th>\n",
       "      <th>compliment_plain</th>\n",
       "      <th>compliment_cool</th>\n",
       "      <th>compliment_funny</th>\n",
       "      <th>compliment_writer</th>\n",
       "      <th>compliment_photos</th>\n",
       "    </tr>\n",
       "  </thead>\n",
       "  <tbody>\n",
       "    <tr>\n",
       "      <th>count</th>\n",
       "      <td>1.326100e+06</td>\n",
       "      <td>1.326100e+06</td>\n",
       "      <td>1.326100e+06</td>\n",
       "      <td>1.326100e+06</td>\n",
       "      <td>1.326100e+06</td>\n",
       "      <td>1.326100e+06</td>\n",
       "      <td>1.326100e+06</td>\n",
       "      <td>1.326100e+06</td>\n",
       "      <td>1.326100e+06</td>\n",
       "      <td>1.326100e+06</td>\n",
       "      <td>1.326100e+06</td>\n",
       "      <td>1.326100e+06</td>\n",
       "      <td>1.326100e+06</td>\n",
       "      <td>1.326100e+06</td>\n",
       "      <td>1.326100e+06</td>\n",
       "      <td>1.326100e+06</td>\n",
       "      <td>1.326100e+06</td>\n",
       "    </tr>\n",
       "    <tr>\n",
       "      <th>mean</th>\n",
       "      <td>2.311717e+01</td>\n",
       "      <td>2.934477e+01</td>\n",
       "      <td>1.461139e+01</td>\n",
       "      <td>1.960347e+01</td>\n",
       "      <td>1.457274e+00</td>\n",
       "      <td>3.710841e+00</td>\n",
       "      <td>2.534310e+00</td>\n",
       "      <td>3.819033e-01</td>\n",
       "      <td>2.478478e-01</td>\n",
       "      <td>2.301101e-01</td>\n",
       "      <td>1.009637e-01</td>\n",
       "      <td>1.684783e+00</td>\n",
       "      <td>3.523903e+00</td>\n",
       "      <td>3.508096e+00</td>\n",
       "      <td>3.508096e+00</td>\n",
       "      <td>1.334797e+00</td>\n",
       "      <td>1.187572e+00</td>\n",
       "    </tr>\n",
       "    <tr>\n",
       "      <th>std</th>\n",
       "      <td>7.909808e+01</td>\n",
       "      <td>7.058728e+02</td>\n",
       "      <td>4.974612e+02</td>\n",
       "      <td>6.695229e+02</td>\n",
       "      <td>1.428609e+01</td>\n",
       "      <td>1.120721e+00</td>\n",
       "      <td>7.653176e+01</td>\n",
       "      <td>1.489118e+01</td>\n",
       "      <td>1.769975e+01</td>\n",
       "      <td>1.403812e+01</td>\n",
       "      <td>1.205389e+01</td>\n",
       "      <td>6.033666e+01</td>\n",
       "      <td>9.379238e+01</td>\n",
       "      <td>8.955264e+01</td>\n",
       "      <td>8.955264e+01</td>\n",
       "      <td>3.417995e+01</td>\n",
       "      <td>9.954291e+01</td>\n",
       "    </tr>\n",
       "    <tr>\n",
       "      <th>min</th>\n",
       "      <td>0.000000e+00</td>\n",
       "      <td>0.000000e+00</td>\n",
       "      <td>0.000000e+00</td>\n",
       "      <td>0.000000e+00</td>\n",
       "      <td>0.000000e+00</td>\n",
       "      <td>1.000000e+00</td>\n",
       "      <td>0.000000e+00</td>\n",
       "      <td>0.000000e+00</td>\n",
       "      <td>0.000000e+00</td>\n",
       "      <td>0.000000e+00</td>\n",
       "      <td>0.000000e+00</td>\n",
       "      <td>0.000000e+00</td>\n",
       "      <td>0.000000e+00</td>\n",
       "      <td>0.000000e+00</td>\n",
       "      <td>0.000000e+00</td>\n",
       "      <td>0.000000e+00</td>\n",
       "      <td>0.000000e+00</td>\n",
       "    </tr>\n",
       "    <tr>\n",
       "      <th>25%</th>\n",
       "      <td>2.000000e+00</td>\n",
       "      <td>0.000000e+00</td>\n",
       "      <td>0.000000e+00</td>\n",
       "      <td>0.000000e+00</td>\n",
       "      <td>0.000000e+00</td>\n",
       "      <td>3.090000e+00</td>\n",
       "      <td>0.000000e+00</td>\n",
       "      <td>0.000000e+00</td>\n",
       "      <td>0.000000e+00</td>\n",
       "      <td>0.000000e+00</td>\n",
       "      <td>0.000000e+00</td>\n",
       "      <td>0.000000e+00</td>\n",
       "      <td>0.000000e+00</td>\n",
       "      <td>0.000000e+00</td>\n",
       "      <td>0.000000e+00</td>\n",
       "      <td>0.000000e+00</td>\n",
       "      <td>0.000000e+00</td>\n",
       "    </tr>\n",
       "    <tr>\n",
       "      <th>50%</th>\n",
       "      <td>5.000000e+00</td>\n",
       "      <td>0.000000e+00</td>\n",
       "      <td>0.000000e+00</td>\n",
       "      <td>0.000000e+00</td>\n",
       "      <td>0.000000e+00</td>\n",
       "      <td>3.900000e+00</td>\n",
       "      <td>0.000000e+00</td>\n",
       "      <td>0.000000e+00</td>\n",
       "      <td>0.000000e+00</td>\n",
       "      <td>0.000000e+00</td>\n",
       "      <td>0.000000e+00</td>\n",
       "      <td>0.000000e+00</td>\n",
       "      <td>0.000000e+00</td>\n",
       "      <td>0.000000e+00</td>\n",
       "      <td>0.000000e+00</td>\n",
       "      <td>0.000000e+00</td>\n",
       "      <td>0.000000e+00</td>\n",
       "    </tr>\n",
       "    <tr>\n",
       "      <th>75%</th>\n",
       "      <td>1.500000e+01</td>\n",
       "      <td>3.000000e+00</td>\n",
       "      <td>1.000000e+00</td>\n",
       "      <td>0.000000e+00</td>\n",
       "      <td>0.000000e+00</td>\n",
       "      <td>4.610000e+00</td>\n",
       "      <td>0.000000e+00</td>\n",
       "      <td>0.000000e+00</td>\n",
       "      <td>0.000000e+00</td>\n",
       "      <td>0.000000e+00</td>\n",
       "      <td>0.000000e+00</td>\n",
       "      <td>0.000000e+00</td>\n",
       "      <td>0.000000e+00</td>\n",
       "      <td>0.000000e+00</td>\n",
       "      <td>0.000000e+00</td>\n",
       "      <td>0.000000e+00</td>\n",
       "      <td>0.000000e+00</td>\n",
       "    </tr>\n",
       "    <tr>\n",
       "      <th>max</th>\n",
       "      <td>1.195400e+04</td>\n",
       "      <td>2.247100e+05</td>\n",
       "      <td>2.127610e+05</td>\n",
       "      <td>2.224160e+05</td>\n",
       "      <td>7.009000e+03</td>\n",
       "      <td>5.000000e+00</td>\n",
       "      <td>2.429300e+04</td>\n",
       "      <td>1.347800e+04</td>\n",
       "      <td>1.413700e+04</td>\n",
       "      <td>1.363800e+04</td>\n",
       "      <td>1.264700e+04</td>\n",
       "      <td>5.696000e+04</td>\n",
       "      <td>4.183500e+04</td>\n",
       "      <td>2.976500e+04</td>\n",
       "      <td>2.976500e+04</td>\n",
       "      <td>1.540300e+04</td>\n",
       "      <td>8.258000e+04</td>\n",
       "    </tr>\n",
       "  </tbody>\n",
       "</table>\n",
       "</div>"
      ],
      "text/plain": [
       "       review_count        useful         funny          cool          fans  \\\n",
       "count  1.326100e+06  1.326100e+06  1.326100e+06  1.326100e+06  1.326100e+06   \n",
       "mean   2.311717e+01  2.934477e+01  1.461139e+01  1.960347e+01  1.457274e+00   \n",
       "std    7.909808e+01  7.058728e+02  4.974612e+02  6.695229e+02  1.428609e+01   \n",
       "min    0.000000e+00  0.000000e+00  0.000000e+00  0.000000e+00  0.000000e+00   \n",
       "25%    2.000000e+00  0.000000e+00  0.000000e+00  0.000000e+00  0.000000e+00   \n",
       "50%    5.000000e+00  0.000000e+00  0.000000e+00  0.000000e+00  0.000000e+00   \n",
       "75%    1.500000e+01  3.000000e+00  1.000000e+00  0.000000e+00  0.000000e+00   \n",
       "max    1.195400e+04  2.247100e+05  2.127610e+05  2.224160e+05  7.009000e+03   \n",
       "\n",
       "       average_stars  compliment_hot  compliment_more  compliment_profile  \\\n",
       "count   1.326100e+06    1.326100e+06     1.326100e+06        1.326100e+06   \n",
       "mean    3.710841e+00    2.534310e+00     3.819033e-01        2.478478e-01   \n",
       "std     1.120721e+00    7.653176e+01     1.489118e+01        1.769975e+01   \n",
       "min     1.000000e+00    0.000000e+00     0.000000e+00        0.000000e+00   \n",
       "25%     3.090000e+00    0.000000e+00     0.000000e+00        0.000000e+00   \n",
       "50%     3.900000e+00    0.000000e+00     0.000000e+00        0.000000e+00   \n",
       "75%     4.610000e+00    0.000000e+00     0.000000e+00        0.000000e+00   \n",
       "max     5.000000e+00    2.429300e+04     1.347800e+04        1.413700e+04   \n",
       "\n",
       "       compliment_cute  compliment_list  compliment_note  compliment_plain  \\\n",
       "count     1.326100e+06     1.326100e+06     1.326100e+06      1.326100e+06   \n",
       "mean      2.301101e-01     1.009637e-01     1.684783e+00      3.523903e+00   \n",
       "std       1.403812e+01     1.205389e+01     6.033666e+01      9.379238e+01   \n",
       "min       0.000000e+00     0.000000e+00     0.000000e+00      0.000000e+00   \n",
       "25%       0.000000e+00     0.000000e+00     0.000000e+00      0.000000e+00   \n",
       "50%       0.000000e+00     0.000000e+00     0.000000e+00      0.000000e+00   \n",
       "75%       0.000000e+00     0.000000e+00     0.000000e+00      0.000000e+00   \n",
       "max       1.363800e+04     1.264700e+04     5.696000e+04      4.183500e+04   \n",
       "\n",
       "       compliment_cool  compliment_funny  compliment_writer  compliment_photos  \n",
       "count     1.326100e+06      1.326100e+06       1.326100e+06       1.326100e+06  \n",
       "mean      3.508096e+00      3.508096e+00       1.334797e+00       1.187572e+00  \n",
       "std       8.955264e+01      8.955264e+01       3.417995e+01       9.954291e+01  \n",
       "min       0.000000e+00      0.000000e+00       0.000000e+00       0.000000e+00  \n",
       "25%       0.000000e+00      0.000000e+00       0.000000e+00       0.000000e+00  \n",
       "50%       0.000000e+00      0.000000e+00       0.000000e+00       0.000000e+00  \n",
       "75%       0.000000e+00      0.000000e+00       0.000000e+00       0.000000e+00  \n",
       "max       2.976500e+04      2.976500e+04       1.540300e+04       8.258000e+04  "
      ]
     },
     "execution_count": 5,
     "metadata": {},
     "output_type": "execute_result"
    }
   ],
   "source": [
    "df.describe()"
   ]
  },
  {
   "cell_type": "markdown",
   "metadata": {},
   "source": [
    "Notice how the `describe()` function knows to only get statistics from columns that make some kind of sense (numeric)."
   ]
  },
  {
   "cell_type": "markdown",
   "metadata": {},
   "source": [
    "**Is there missing data?**"
   ]
  },
  {
   "cell_type": "code",
   "execution_count": 21,
   "metadata": {},
   "outputs": [
    {
     "data": {
      "text/plain": [
       "user_id                 0\n",
       "name                  497\n",
       "review_count            0\n",
       "yelping_since           0\n",
       "friends                 0\n",
       "useful                  0\n",
       "funny                   0\n",
       "cool                    0\n",
       "fans                    0\n",
       "elite                   0\n",
       "average_stars           0\n",
       "compliment_hot          0\n",
       "compliment_more         0\n",
       "compliment_profile      0\n",
       "compliment_cute         0\n",
       "compliment_list         0\n",
       "compliment_note         0\n",
       "compliment_plain        0\n",
       "compliment_cool         0\n",
       "compliment_funny        0\n",
       "compliment_writer       0\n",
       "compliment_photos       0\n",
       "dtype: int64"
      ]
     },
     "execution_count": 21,
     "metadata": {},
     "output_type": "execute_result"
    }
   ],
   "source": [
    "df.isnull().sum()"
   ]
  },
  {
   "cell_type": "markdown",
   "metadata": {},
   "source": [
    "Another way to do this that just gives a total count:"
   ]
  },
  {
   "cell_type": "code",
   "execution_count": 19,
   "metadata": {},
   "outputs": [
    {
     "name": "stdout",
     "output_type": "stream",
     "text": [
      "Missing data from 497 rows\n"
     ]
    }
   ],
   "source": [
    "if df[df.isnull().any(axis=1)].empty:\n",
    "    print(\"No missing values!\")\n",
    "else:\n",
    "    print(\"Missing data from {} rows\".format(df[df.isnull().any(axis=1)].shape[0]))"
   ]
  },
  {
   "cell_type": "markdown",
   "metadata": {},
   "source": []
  },
  {
   "cell_type": "code",
   "execution_count": null,
   "metadata": {},
   "outputs": [],
   "source": []
  },
  {
   "cell_type": "markdown",
   "metadata": {},
   "source": [
    "**Plot the histogram for a column**"
   ]
  },
  {
   "cell_type": "code",
   "execution_count": 17,
   "metadata": {},
   "outputs": [
    {
     "data": {
      "image/png": "[encoded data removed]",
      "text/plain": [
       "<Figure size 432x288 with 1 Axes>"
      ]
     },
     "metadata": {},
     "output_type": "display_data"
    }
   ],
   "source": [
    "df.hist(column=\"average_stars\");"
   ]
  },
  {
   "cell_type": "markdown",
   "metadata": {},
   "source": [
    "I wouldn't recommend using Pandas for plotting. It effectively calls Matplotlib in the background to build these graphs but it can be difficult to get a nice looking plot this way. It's fine for making quick analysis that only you will see, but if anyone else had to see this I would either use Matplotlib directly, or some other popular visualization library (i.e. Seaborn, Plotly, Bokeh, ggplot)."
   ]
  },
  {
   "cell_type": "markdown",
   "metadata": {},
   "source": []
  }
 ],
 "metadata": {
  "kernelspec": {
   "display_name": "Python 3",
   "language": "python",
   "name": "python3"
  },
  "language_info": {
   "codemirror_mode": {
    "name": "ipython",
    "version": 3
   },
   "file_extension": ".py",
   "mimetype": "text/x-python",
   "name": "python",
   "nbconvert_exporter": "python",
   "pygments_lexer": "ipython3",
   "version": "3.5.0"
  }
 },
 "nbformat": 4,
 "nbformat_minor": 2
}
